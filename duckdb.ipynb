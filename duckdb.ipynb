{
 "cells": [
  {
   "cell_type": "code",
   "execution_count": 1,
   "id": "e42c716d",
   "metadata": {},
   "outputs": [
    {
     "data": {
      "text/html": [
       "<style>.container { width:100% !important; }</style>"
      ],
      "text/plain": [
       "<IPython.core.display.HTML object>"
      ]
     },
     "metadata": {},
     "output_type": "display_data"
    }
   ],
   "source": [
    "from IPython.display import display, HTML\n",
    "display(HTML(\"<style>.container { width:100% !important; }</style>\"))"
   ]
  },
  {
   "cell_type": "code",
   "execution_count": 2,
   "id": "a4c70a09",
   "metadata": {},
   "outputs": [],
   "source": [
    "import duckdb\n",
    "import pandas as pd\n",
    "import sqlalchemy\n",
    "\n",
    "%load_ext sql\n",
    "%config SqlMagic.autopandas = True\n",
    "%config SqlMagic.feedback = False\n",
    "%config SqlMagic.displaycon = False\n",
    "%sql duckdb:///my-db.duckdb"
   ]
  },
  {
   "cell_type": "code",
   "execution_count": 3,
   "id": "bcf6c918",
   "metadata": {},
   "outputs": [],
   "source": [
    "from uniprot_log_file_parser import db"
   ]
  },
  {
   "cell_type": "code",
   "execution_count": 4,
   "id": "5343c0f8",
   "metadata": {},
   "outputs": [],
   "source": [
    "dbc = db.get_db_connection('foo.duckdb')"
   ]
  },
  {
   "cell_type": "code",
   "execution_count": 32,
   "id": "86fea591",
   "metadata": {},
   "outputs": [],
   "source": [
    "dbc.sql(\"DROP TABLE useragent\")\n",
    "db.setup_tables(dbc, \"uniprotkb\")"
   ]
  },
  {
   "cell_type": "code",
   "execution_count": 5,
   "id": "225eb8ba",
   "metadata": {},
   "outputs": [],
   "source": [
    "df = pd.read_csv('useragent.csv')\n",
    "df['id'] = df.index\n",
    "df['string'] = df['string'].fillna(\"\")\n",
    "df[\"type\"] = df[\"type\"].astype(\"category\")\n",
    "# df[\"id\"] = df[\"id\"].astype(\"int32\")"
   ]
  },
  {
   "cell_type": "code",
   "execution_count": 21,
   "id": "d61a1476",
   "metadata": {},
   "outputs": [],
   "source": [
    "db.update_useragents(dbc, df2)"
   ]
  },
  {
   "cell_type": "code",
   "execution_count": 16,
   "id": "a78ebda6",
   "metadata": {},
   "outputs": [],
   "source": [
    "n = pd.DataFrame([{\n",
    "    \"string\": \"foo\",\n",
    "    \"family\":  \"Chrome\",\n",
    "    \"id\": len(df),\n",
    "}])"
   ]
  },
  {
   "cell_type": "code",
   "execution_count": 20,
   "id": "5f1dde74",
   "metadata": {},
   "outputs": [],
   "source": [
    "df2 = pd.concat([df, n])"
   ]
  },
  {
   "cell_type": "code",
   "execution_count": null,
   "id": "69f89409",
   "metadata": {},
   "outputs": [],
   "source": [
    "df.loc[len(df.index)] = "
   ]
  },
  {
   "cell_type": "code",
   "execution_count": null,
   "id": "90339d20",
   "metadata": {},
   "outputs": [],
   "source": [
    "dict = {'Name':['Martha', 'Tim', 'Rob', 'Georgia'],\n",
    "        'Maths':[87, 91, 97, 95],\n",
    "        'Science':[83, 99, 84, 76]\n",
    "       }\n",
    "  \n",
    "df = pd.DataFrame(dict)\n",
    "  \n",
    "display(df)\n",
    "  \n",
    "df.loc[len(df.index)] = ['Amy', 89, 93] "
   ]
  },
  {
   "cell_type": "code",
   "execution_count": null,
   "id": "99cf8b34",
   "metadata": {},
   "outputs": [],
   "source": []
  },
  {
   "cell_type": "code",
   "execution_count": 5,
   "id": "89e8a9bc",
   "metadata": {},
   "outputs": [],
   "source": [
    "df2 = db.get_useragents(dbc)"
   ]
  },
  {
   "cell_type": "code",
   "execution_count": 6,
   "id": "f9fc620a",
   "metadata": {},
   "outputs": [
    {
     "data": {
      "text/html": [
       "<div>\n",
       "<style scoped>\n",
       "    .dataframe tbody tr th:only-of-type {\n",
       "        vertical-align: middle;\n",
       "    }\n",
       "\n",
       "    .dataframe tbody tr th {\n",
       "        vertical-align: top;\n",
       "    }\n",
       "\n",
       "    .dataframe thead th {\n",
       "        text-align: right;\n",
       "    }\n",
       "</style>\n",
       "<table border=\"1\" class=\"dataframe\">\n",
       "  <thead>\n",
       "    <tr style=\"text-align: right;\">\n",
       "      <th></th>\n",
       "      <th>string</th>\n",
       "      <th>family</th>\n",
       "      <th>type</th>\n",
       "      <th>major</th>\n",
       "      <th>id</th>\n",
       "    </tr>\n",
       "  </thead>\n",
       "  <tbody>\n",
       "    <tr>\n",
       "      <th>0</th>\n",
       "      <td></td>\n",
       "      <td>Other</td>\n",
       "      <td>unknown</td>\n",
       "      <td>False</td>\n",
       "      <td>0</td>\n",
       "    </tr>\n",
       "    <tr>\n",
       "      <th>1</th>\n",
       "      <td>\"Mozilla/5.0 (Windows NT 10.0; Win64; x64) App...</td>\n",
       "      <td>Edge</td>\n",
       "      <td>browser</td>\n",
       "      <td>True</td>\n",
       "      <td>1</td>\n",
       "    </tr>\n",
       "    <tr>\n",
       "      <th>2</th>\n",
       "      <td>\"Mozilla/5.0 (Windows NT 10.0; Win64; x64) App...</td>\n",
       "      <td>Chrome</td>\n",
       "      <td>browser</td>\n",
       "      <td>True</td>\n",
       "      <td>2</td>\n",
       "    </tr>\n",
       "    <tr>\n",
       "      <th>3</th>\n",
       "      <td>\"Mozilla/5.0 (iPod; U; CPU iPhone OS 2_1 like ...</td>\n",
       "      <td>Mobile Safari</td>\n",
       "      <td>browser</td>\n",
       "      <td>True</td>\n",
       "      <td>3</td>\n",
       "    </tr>\n",
       "    <tr>\n",
       "      <th>4</th>\n",
       "      <td>-</td>\n",
       "      <td>Other</td>\n",
       "      <td>unknown</td>\n",
       "      <td>False</td>\n",
       "      <td>4</td>\n",
       "    </tr>\n",
       "    <tr>\n",
       "      <th>...</th>\n",
       "      <td>...</td>\n",
       "      <td>...</td>\n",
       "      <td>...</td>\n",
       "      <td>...</td>\n",
       "      <td>...</td>\n",
       "    </tr>\n",
       "    <tr>\n",
       "      <th>91831</th>\n",
       "      <td>yacybot (/global; amd64 Linux 6.0.12-gentoo; j...</td>\n",
       "      <td>yacybot</td>\n",
       "      <td>bot</td>\n",
       "      <td>False</td>\n",
       "      <td>91831</td>\n",
       "    </tr>\n",
       "    <tr>\n",
       "      <th>91832</th>\n",
       "      <td>yacybot (/global; amd64 Linux 6.0.7-gentoo; ja...</td>\n",
       "      <td>yacybot</td>\n",
       "      <td>bot</td>\n",
       "      <td>False</td>\n",
       "      <td>91832</td>\n",
       "    </tr>\n",
       "    <tr>\n",
       "      <th>91833</th>\n",
       "      <td>yacybot (/global; amd64 Linux 6.0.9-gentoo; ja...</td>\n",
       "      <td>yacybot</td>\n",
       "      <td>bot</td>\n",
       "      <td>False</td>\n",
       "      <td>91833</td>\n",
       "    </tr>\n",
       "    <tr>\n",
       "      <th>91834</th>\n",
       "      <td>yacybot (/global; x86_64 Mac OS X 10.14.6; jav...</td>\n",
       "      <td>yacybot</td>\n",
       "      <td>bot</td>\n",
       "      <td>False</td>\n",
       "      <td>91834</td>\n",
       "    </tr>\n",
       "    <tr>\n",
       "      <th>91835</th>\n",
       "      <td>foo</td>\n",
       "      <td>Chrome</td>\n",
       "      <td>NaN</td>\n",
       "      <td>NaN</td>\n",
       "      <td>91835</td>\n",
       "    </tr>\n",
       "  </tbody>\n",
       "</table>\n",
       "<p>91836 rows × 5 columns</p>\n",
       "</div>"
      ],
      "text/plain": [
       "                                                  string         family  \\\n",
       "0                                                                 Other   \n",
       "1      \"Mozilla/5.0 (Windows NT 10.0; Win64; x64) App...           Edge   \n",
       "2      \"Mozilla/5.0 (Windows NT 10.0; Win64; x64) App...         Chrome   \n",
       "3      \"Mozilla/5.0 (iPod; U; CPU iPhone OS 2_1 like ...  Mobile Safari   \n",
       "4                                                      -          Other   \n",
       "...                                                  ...            ...   \n",
       "91831  yacybot (/global; amd64 Linux 6.0.12-gentoo; j...        yacybot   \n",
       "91832  yacybot (/global; amd64 Linux 6.0.7-gentoo; ja...        yacybot   \n",
       "91833  yacybot (/global; amd64 Linux 6.0.9-gentoo; ja...        yacybot   \n",
       "91834  yacybot (/global; x86_64 Mac OS X 10.14.6; jav...        yacybot   \n",
       "91835                                                foo         Chrome   \n",
       "\n",
       "          type  major     id  \n",
       "0      unknown  False      0  \n",
       "1      browser   True      1  \n",
       "2      browser   True      2  \n",
       "3      browser   True      3  \n",
       "4      unknown  False      4  \n",
       "...        ...    ...    ...  \n",
       "91831      bot  False  91831  \n",
       "91832      bot  False  91832  \n",
       "91833      bot  False  91833  \n",
       "91834      bot  False  91834  \n",
       "91835      NaN    NaN  91835  \n",
       "\n",
       "[91836 rows x 5 columns]"
      ]
     },
     "execution_count": 6,
     "metadata": {},
     "output_type": "execute_result"
    }
   ],
   "source": [
    "df2"
   ]
  },
  {
   "cell_type": "code",
   "execution_count": 36,
   "id": "e2a568e8",
   "metadata": {},
   "outputs": [
    {
     "data": {
      "text/plain": [
       "string      object\n",
       "family      object\n",
       "type      category\n",
       "major         bool\n",
       "id           int32\n",
       "dtype: object"
      ]
     },
     "execution_count": 36,
     "metadata": {},
     "output_type": "execute_result"
    }
   ],
   "source": [
    "df2.dtypes"
   ]
  },
  {
   "cell_type": "code",
   "execution_count": 37,
   "id": "bc2a3783",
   "metadata": {},
   "outputs": [
    {
     "data": {
      "text/plain": [
       "string      object\n",
       "family      object\n",
       "type      category\n",
       "major         bool\n",
       "id           int64\n",
       "dtype: object"
      ]
     },
     "execution_count": 37,
     "metadata": {},
     "output_type": "execute_result"
    }
   ],
   "source": [
    "df.dtypes"
   ]
  },
  {
   "cell_type": "code",
   "execution_count": 38,
   "id": "637b2d4d",
   "metadata": {},
   "outputs": [
    {
     "name": "stdout",
     "output_type": "stream",
     "text": [
      "string 0\n",
      "family 0\n",
      "major 0\n",
      "id 0\n"
     ]
    }
   ],
   "source": [
    "for c in df.columns:\n",
    "    if c != 'type':\n",
    "        print(c, sum(df[c] != df2[c]))"
   ]
  },
  {
   "cell_type": "code",
   "execution_count": 14,
   "id": "fb41abeb",
   "metadata": {},
   "outputs": [],
   "source": []
  },
  {
   "cell_type": "code",
   "execution_count": null,
   "id": "4622714e",
   "metadata": {},
   "outputs": [],
   "source": [
    "dbc.sql(\"SELECT * FROM useragent\")"
   ]
  },
  {
   "cell_type": "code",
   "execution_count": 9,
   "id": "ba91e161",
   "metadata": {},
   "outputs": [
    {
     "data": {
      "text/plain": [
       "┌─────────────┬────────────────┬─────────┬─────────┬─────────┬─────────┐\n",
       "│ column_name │  column_type   │  null   │   key   │ default │  extra  │\n",
       "│   varchar   │    varchar     │ varchar │ varchar │ varchar │ varchar │\n",
       "├─────────────┼────────────────┼─────────┼─────────┼─────────┼─────────┤\n",
       "│ id          │ INTEGER        │ YES     │ NULL    │ NULL    │ NULL    │\n",
       "│ string      │ VARCHAR        │ YES     │ NULL    │ NULL    │ NULL    │\n",
       "│ family      │ VARCHAR        │ YES     │ NULL    │ NULL    │ NULL    │\n",
       "│ type        │ useragent_type │ YES     │ NULL    │ NULL    │ NULL    │\n",
       "│ major       │ BOOLEAN        │ YES     │ NULL    │ NULL    │ NULL    │\n",
       "└─────────────┴────────────────┴─────────┴─────────┴─────────┴─────────┘"
      ]
     },
     "execution_count": 9,
     "metadata": {},
     "output_type": "execute_result"
    }
   ],
   "source": [
    "dbc.sql(\"DESCRIBE SELECT * FROM useragent;\")"
   ]
  },
  {
   "cell_type": "code",
   "execution_count": 30,
   "id": "1b07ac0a",
   "metadata": {},
   "outputs": [
    {
     "data": {
      "text/html": [
       "<div>\n",
       "<style scoped>\n",
       "    .dataframe tbody tr th:only-of-type {\n",
       "        vertical-align: middle;\n",
       "    }\n",
       "\n",
       "    .dataframe tbody tr th {\n",
       "        vertical-align: top;\n",
       "    }\n",
       "\n",
       "    .dataframe thead th {\n",
       "        text-align: right;\n",
       "    }\n",
       "</style>\n",
       "<table border=\"1\" class=\"dataframe\">\n",
       "  <thead>\n",
       "    <tr style=\"text-align: right;\">\n",
       "      <th></th>\n",
       "    </tr>\n",
       "  </thead>\n",
       "  <tbody>\n",
       "  </tbody>\n",
       "</table>\n",
       "</div>"
      ],
      "text/plain": [
       "Empty DataFrame\n",
       "Columns: []\n",
       "Index: []"
      ]
     },
     "execution_count": 30,
     "metadata": {},
     "output_type": "execute_result"
    }
   ],
   "source": [
    "%%sql\n",
    "CREATE TYPE useragent_type AS ENUM ('browser', 'programmatic', 'bot', 'unknown');\n",
    "CREATE TABLE useragent\n",
    " (\n",
    "     string VARCHAR,\n",
    "     family VARCHAR,\n",
    "     type useragent_type,\n",
    "     major BOOLEAN,\n",
    "     PRIMARY KEY (string, family, type, major)\n",
    " )\n",
    "INSERT INTO useragent SELECT * FROM read_csv_auto('useragent.csv');"
   ]
  },
  {
   "cell_type": "code",
   "execution_count": 4,
   "id": "06cd81db",
   "metadata": {},
   "outputs": [
    {
     "name": "stdout",
     "output_type": "stream",
     "text": [
      "CPU times: user 1min 6s, sys: 4.02 s, total: 1min 10s\n",
      "Wall time: 20.2 s\n"
     ]
    },
    {
     "data": {
      "text/html": [
       "<div>\n",
       "<style scoped>\n",
       "    .dataframe tbody tr th:only-of-type {\n",
       "        vertical-align: middle;\n",
       "    }\n",
       "\n",
       "    .dataframe tbody tr th {\n",
       "        vertical-align: top;\n",
       "    }\n",
       "\n",
       "    .dataframe thead th {\n",
       "        text-align: right;\n",
       "    }\n",
       "</style>\n",
       "<table border=\"1\" class=\"dataframe\">\n",
       "  <thead>\n",
       "    <tr style=\"text-align: right;\">\n",
       "      <th></th>\n",
       "      <th>count_star()</th>\n",
       "    </tr>\n",
       "  </thead>\n",
       "  <tbody>\n",
       "    <tr>\n",
       "      <th>0</th>\n",
       "      <td>86373098</td>\n",
       "    </tr>\n",
       "  </tbody>\n",
       "</table>\n",
       "</div>"
      ],
      "text/plain": [
       "   count_star()\n",
       "0      86373098"
      ]
     },
     "execution_count": 4,
     "metadata": {},
     "output_type": "execute_result"
    }
   ],
   "source": [
    "%%time\n",
    "%%sql\n",
    "SELECT\n",
    "  COUNT(*)\n",
    "FROM\n",
    "  uniprotkb,\n",
    "  useragent\n",
    "WHERE\n",
    "  method = 'GET' AND\n",
    "  status = 200 AND\n",
    "  useragent.string = uniprotkb.useragent AND\n",
    "  useragent.major = true AND\n",
    "  useragent.type = 'browser'"
   ]
  },
  {
   "cell_type": "code",
   "execution_count": 6,
   "id": "246e15fe",
   "metadata": {},
   "outputs": [
    {
     "name": "stdout",
     "output_type": "stream",
     "text": [
      "Returning data to local variable df\n",
      "CPU times: user 5min, sys: 1min 22s, total: 6min 23s\n",
      "Wall time: 8min 38s\n"
     ]
    }
   ],
   "source": [
    "%%time\n",
    "%%sql\n",
    "df << SELECT\n",
    "  uniprotkb.datetime,\n",
    "  uniprotkb.method,\n",
    "  uniprotkb.request,\n",
    "  uniprotkb.status,\n",
    "  uniprotkb.bytes,\n",
    "  uniprotkb.referrer,\n",
    "  uniprotkb.useragent,\n",
    "  useragent.family,\n",
    "  useragent.type\n",
    "FROM\n",
    "  uniprotkb,\n",
    "  useragent\n",
    "WHERE\n",
    "  method = 'GET' AND\n",
    "  status = 200 AND\n",
    "  request ILIKE '%ftev\\_%' AND\n",
    "  useragent.string = uniprotkb.useragent AND\n",
    "  useragent.major = true"
   ]
  },
  {
   "cell_type": "code",
   "execution_count": 8,
   "id": "b9426e3d",
   "metadata": {},
   "outputs": [
    {
     "data": {
      "text/html": [
       "<div>\n",
       "<style scoped>\n",
       "    .dataframe tbody tr th:only-of-type {\n",
       "        vertical-align: middle;\n",
       "    }\n",
       "\n",
       "    .dataframe tbody tr th {\n",
       "        vertical-align: top;\n",
       "    }\n",
       "\n",
       "    .dataframe thead th {\n",
       "        text-align: right;\n",
       "    }\n",
       "</style>\n",
       "<table border=\"1\" class=\"dataframe\">\n",
       "  <thead>\n",
       "    <tr style=\"text-align: right;\">\n",
       "      <th></th>\n",
       "    </tr>\n",
       "  </thead>\n",
       "  <tbody>\n",
       "  </tbody>\n",
       "</table>\n",
       "</div>"
      ],
      "text/plain": [
       "Empty DataFrame\n",
       "Columns: []\n",
       "Index: []"
      ]
     },
     "execution_count": 8,
     "metadata": {},
     "output_type": "execute_result"
    }
   ],
   "source": [
    "df"
   ]
  },
  {
   "cell_type": "code",
   "execution_count": 7,
   "id": "fe9c668c",
   "metadata": {},
   "outputs": [
    {
     "ename": "KeyError",
     "evalue": "'request'",
     "output_type": "error",
     "traceback": [
      "\u001b[0;31m---------------------------------------------------------------------------\u001b[0m",
      "\u001b[0;31mKeyError\u001b[0m                                  Traceback (most recent call last)",
      "File \u001b[0;32m~/mambaforge/lib/python3.9/site-packages/pandas/core/indexes/base.py:3621\u001b[0m, in \u001b[0;36mIndex.get_loc\u001b[0;34m(self, key, method, tolerance)\u001b[0m\n\u001b[1;32m   3620\u001b[0m \u001b[38;5;28;01mtry\u001b[39;00m:\n\u001b[0;32m-> 3621\u001b[0m     \u001b[38;5;28;01mreturn\u001b[39;00m \u001b[38;5;28;43mself\u001b[39;49m\u001b[38;5;241;43m.\u001b[39;49m\u001b[43m_engine\u001b[49m\u001b[38;5;241;43m.\u001b[39;49m\u001b[43mget_loc\u001b[49m\u001b[43m(\u001b[49m\u001b[43mcasted_key\u001b[49m\u001b[43m)\u001b[49m\n\u001b[1;32m   3622\u001b[0m \u001b[38;5;28;01mexcept\u001b[39;00m \u001b[38;5;167;01mKeyError\u001b[39;00m \u001b[38;5;28;01mas\u001b[39;00m err:\n",
      "File \u001b[0;32m~/mambaforge/lib/python3.9/site-packages/pandas/_libs/index.pyx:136\u001b[0m, in \u001b[0;36mpandas._libs.index.IndexEngine.get_loc\u001b[0;34m()\u001b[0m\n",
      "File \u001b[0;32m~/mambaforge/lib/python3.9/site-packages/pandas/_libs/index.pyx:163\u001b[0m, in \u001b[0;36mpandas._libs.index.IndexEngine.get_loc\u001b[0;34m()\u001b[0m\n",
      "File \u001b[0;32mpandas/_libs/hashtable_class_helper.pxi:5198\u001b[0m, in \u001b[0;36mpandas._libs.hashtable.PyObjectHashTable.get_item\u001b[0;34m()\u001b[0m\n",
      "File \u001b[0;32mpandas/_libs/hashtable_class_helper.pxi:5206\u001b[0m, in \u001b[0;36mpandas._libs.hashtable.PyObjectHashTable.get_item\u001b[0;34m()\u001b[0m\n",
      "\u001b[0;31mKeyError\u001b[0m: 'request'",
      "\nThe above exception was the direct cause of the following exception:\n",
      "\u001b[0;31mKeyError\u001b[0m                                  Traceback (most recent call last)",
      "Input \u001b[0;32mIn [7]\u001b[0m, in \u001b[0;36m<cell line: 1>\u001b[0;34m()\u001b[0m\n\u001b[0;32m----> 1\u001b[0m \u001b[43mdf\u001b[49m\u001b[38;5;241;43m.\u001b[39;49m\u001b[43mloc\u001b[49m\u001b[43m[\u001b[49m\u001b[38;5;241;43m0\u001b[39;49m\u001b[43m,\u001b[49m\u001b[38;5;124;43m'\u001b[39;49m\u001b[38;5;124;43mrequest\u001b[39;49m\u001b[38;5;124;43m'\u001b[39;49m\u001b[43m]\u001b[49m\n",
      "File \u001b[0;32m~/mambaforge/lib/python3.9/site-packages/pandas/core/indexing.py:960\u001b[0m, in \u001b[0;36m_LocationIndexer.__getitem__\u001b[0;34m(self, key)\u001b[0m\n\u001b[1;32m    958\u001b[0m     key \u001b[38;5;241m=\u001b[39m \u001b[38;5;28mtuple\u001b[39m(com\u001b[38;5;241m.\u001b[39mapply_if_callable(x, \u001b[38;5;28mself\u001b[39m\u001b[38;5;241m.\u001b[39mobj) \u001b[38;5;28;01mfor\u001b[39;00m x \u001b[38;5;129;01min\u001b[39;00m key)\n\u001b[1;32m    959\u001b[0m     \u001b[38;5;28;01mif\u001b[39;00m \u001b[38;5;28mself\u001b[39m\u001b[38;5;241m.\u001b[39m_is_scalar_access(key):\n\u001b[0;32m--> 960\u001b[0m         \u001b[38;5;28;01mreturn\u001b[39;00m \u001b[38;5;28;43mself\u001b[39;49m\u001b[38;5;241;43m.\u001b[39;49m\u001b[43mobj\u001b[49m\u001b[38;5;241;43m.\u001b[39;49m\u001b[43m_get_value\u001b[49m\u001b[43m(\u001b[49m\u001b[38;5;241;43m*\u001b[39;49m\u001b[43mkey\u001b[49m\u001b[43m,\u001b[49m\u001b[43m \u001b[49m\u001b[43mtakeable\u001b[49m\u001b[38;5;241;43m=\u001b[39;49m\u001b[38;5;28;43mself\u001b[39;49m\u001b[38;5;241;43m.\u001b[39;49m\u001b[43m_takeable\u001b[49m\u001b[43m)\u001b[49m\n\u001b[1;32m    961\u001b[0m     \u001b[38;5;28;01mreturn\u001b[39;00m \u001b[38;5;28mself\u001b[39m\u001b[38;5;241m.\u001b[39m_getitem_tuple(key)\n\u001b[1;32m    962\u001b[0m \u001b[38;5;28;01melse\u001b[39;00m:\n\u001b[1;32m    963\u001b[0m     \u001b[38;5;66;03m# we by definition only have the 0th axis\u001b[39;00m\n",
      "File \u001b[0;32m~/mambaforge/lib/python3.9/site-packages/pandas/core/frame.py:3615\u001b[0m, in \u001b[0;36mDataFrame._get_value\u001b[0;34m(self, index, col, takeable)\u001b[0m\n\u001b[1;32m   3612\u001b[0m     series \u001b[38;5;241m=\u001b[39m \u001b[38;5;28mself\u001b[39m\u001b[38;5;241m.\u001b[39m_ixs(col, axis\u001b[38;5;241m=\u001b[39m\u001b[38;5;241m1\u001b[39m)\n\u001b[1;32m   3613\u001b[0m     \u001b[38;5;28;01mreturn\u001b[39;00m series\u001b[38;5;241m.\u001b[39m_values[index]\n\u001b[0;32m-> 3615\u001b[0m series \u001b[38;5;241m=\u001b[39m \u001b[38;5;28;43mself\u001b[39;49m\u001b[38;5;241;43m.\u001b[39;49m\u001b[43m_get_item_cache\u001b[49m\u001b[43m(\u001b[49m\u001b[43mcol\u001b[49m\u001b[43m)\u001b[49m\n\u001b[1;32m   3616\u001b[0m engine \u001b[38;5;241m=\u001b[39m \u001b[38;5;28mself\u001b[39m\u001b[38;5;241m.\u001b[39mindex\u001b[38;5;241m.\u001b[39m_engine\n\u001b[1;32m   3618\u001b[0m \u001b[38;5;28;01mif\u001b[39;00m \u001b[38;5;129;01mnot\u001b[39;00m \u001b[38;5;28misinstance\u001b[39m(\u001b[38;5;28mself\u001b[39m\u001b[38;5;241m.\u001b[39mindex, MultiIndex):\n\u001b[1;32m   3619\u001b[0m     \u001b[38;5;66;03m# CategoricalIndex: Trying to use the engine fastpath may give incorrect\u001b[39;00m\n\u001b[1;32m   3620\u001b[0m     \u001b[38;5;66;03m#  results if our categories are integers that dont match our codes\u001b[39;00m\n\u001b[1;32m   3621\u001b[0m     \u001b[38;5;66;03m# IntervalIndex: IntervalTree has no get_loc\u001b[39;00m\n",
      "File \u001b[0;32m~/mambaforge/lib/python3.9/site-packages/pandas/core/frame.py:3931\u001b[0m, in \u001b[0;36mDataFrame._get_item_cache\u001b[0;34m(self, item)\u001b[0m\n\u001b[1;32m   3926\u001b[0m res \u001b[38;5;241m=\u001b[39m cache\u001b[38;5;241m.\u001b[39mget(item)\n\u001b[1;32m   3927\u001b[0m \u001b[38;5;28;01mif\u001b[39;00m res \u001b[38;5;129;01mis\u001b[39;00m \u001b[38;5;28;01mNone\u001b[39;00m:\n\u001b[1;32m   3928\u001b[0m     \u001b[38;5;66;03m# All places that call _get_item_cache have unique columns,\u001b[39;00m\n\u001b[1;32m   3929\u001b[0m     \u001b[38;5;66;03m#  pending resolution of GH#33047\u001b[39;00m\n\u001b[0;32m-> 3931\u001b[0m     loc \u001b[38;5;241m=\u001b[39m \u001b[38;5;28;43mself\u001b[39;49m\u001b[38;5;241;43m.\u001b[39;49m\u001b[43mcolumns\u001b[49m\u001b[38;5;241;43m.\u001b[39;49m\u001b[43mget_loc\u001b[49m\u001b[43m(\u001b[49m\u001b[43mitem\u001b[49m\u001b[43m)\u001b[49m\n\u001b[1;32m   3932\u001b[0m     res \u001b[38;5;241m=\u001b[39m \u001b[38;5;28mself\u001b[39m\u001b[38;5;241m.\u001b[39m_ixs(loc, axis\u001b[38;5;241m=\u001b[39m\u001b[38;5;241m1\u001b[39m)\n\u001b[1;32m   3934\u001b[0m     cache[item] \u001b[38;5;241m=\u001b[39m res\n",
      "File \u001b[0;32m~/mambaforge/lib/python3.9/site-packages/pandas/core/indexes/base.py:3623\u001b[0m, in \u001b[0;36mIndex.get_loc\u001b[0;34m(self, key, method, tolerance)\u001b[0m\n\u001b[1;32m   3621\u001b[0m     \u001b[38;5;28;01mreturn\u001b[39;00m \u001b[38;5;28mself\u001b[39m\u001b[38;5;241m.\u001b[39m_engine\u001b[38;5;241m.\u001b[39mget_loc(casted_key)\n\u001b[1;32m   3622\u001b[0m \u001b[38;5;28;01mexcept\u001b[39;00m \u001b[38;5;167;01mKeyError\u001b[39;00m \u001b[38;5;28;01mas\u001b[39;00m err:\n\u001b[0;32m-> 3623\u001b[0m     \u001b[38;5;28;01mraise\u001b[39;00m \u001b[38;5;167;01mKeyError\u001b[39;00m(key) \u001b[38;5;28;01mfrom\u001b[39;00m \u001b[38;5;21;01merr\u001b[39;00m\n\u001b[1;32m   3624\u001b[0m \u001b[38;5;28;01mexcept\u001b[39;00m \u001b[38;5;167;01mTypeError\u001b[39;00m:\n\u001b[1;32m   3625\u001b[0m     \u001b[38;5;66;03m# If we have a listlike key, _check_indexing_error will raise\u001b[39;00m\n\u001b[1;32m   3626\u001b[0m     \u001b[38;5;66;03m#  InvalidIndexError. Otherwise we fall through and re-raise\u001b[39;00m\n\u001b[1;32m   3627\u001b[0m     \u001b[38;5;66;03m#  the TypeError.\u001b[39;00m\n\u001b[1;32m   3628\u001b[0m     \u001b[38;5;28mself\u001b[39m\u001b[38;5;241m.\u001b[39m_check_indexing_error(key)\n",
      "\u001b[0;31mKeyError\u001b[0m: 'request'"
     ]
    }
   ],
   "source": [
    "df.loc[0,'request']"
   ]
  },
  {
   "cell_type": "code",
   "execution_count": null,
   "id": "1732633d",
   "metadata": {},
   "outputs": [],
   "source": []
  }
 ],
 "metadata": {
  "kernelspec": {
   "display_name": "Python 3 (ipykernel)",
   "language": "python",
   "name": "python3"
  },
  "language_info": {
   "codemirror_mode": {
    "name": "ipython",
    "version": 3
   },
   "file_extension": ".py",
   "mimetype": "text/x-python",
   "name": "python",
   "nbconvert_exporter": "python",
   "pygments_lexer": "ipython3",
   "version": "3.9.13"
  }
 },
 "nbformat": 4,
 "nbformat_minor": 5
}
