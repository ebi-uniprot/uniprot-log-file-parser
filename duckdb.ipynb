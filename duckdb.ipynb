{
 "cells": [
  {
   "cell_type": "code",
   "execution_count": 42,
   "id": "e42c716d",
   "metadata": {},
   "outputs": [
    {
     "data": {
      "text/html": [
       "<style>.container { width:100% !important; }</style>"
      ],
      "text/plain": [
       "<IPython.core.display.HTML object>"
      ]
     },
     "metadata": {},
     "output_type": "display_data"
    }
   ],
   "source": [
    "from IPython.display import display, HTML\n",
    "display(HTML(\"<style>.container { width:100% !important; }</style>\"))"
   ]
  },
  {
   "cell_type": "code",
   "execution_count": 43,
   "id": "a4c70a09",
   "metadata": {},
   "outputs": [
    {
     "name": "stdout",
     "output_type": "stream",
     "text": [
      "The sql extension is already loaded. To reload it, use:\n",
      "  %reload_ext sql\n"
     ]
    }
   ],
   "source": [
    "import duckdb\n",
    "import pandas as pd\n",
    "import sqlalchemy\n",
    "\n",
    "%load_ext sql\n",
    "%config SqlMagic.autopandas = True\n",
    "%config SqlMagic.feedback = False\n",
    "%config SqlMagic.displaycon = False"
   ]
  },
  {
   "cell_type": "code",
   "execution_count": 45,
   "id": "bcf6c918",
   "metadata": {},
   "outputs": [],
   "source": [
    "from uniprot_log_file_parser import db, prepare_and_insert, ua\n",
    "dbc = db.get_db_connection('foo.duckdb')"
   ]
  },
  {
   "cell_type": "code",
   "execution_count": 46,
   "id": "9768cd4a",
   "metadata": {},
   "outputs": [
    {
     "data": {
      "text/plain": [
       "┌──────────────┬──────────────┬───────────┬──────────────┬────────┬──────────────┐\n",
       "│ row_group_id │ column_name  │ column_id │ segment_type │ count  │ compression  │\n",
       "│    int64     │   varchar    │   int64   │   varchar    │ int64  │   varchar    │\n",
       "├──────────────┼──────────────┼───────────┼──────────────┼────────┼──────────────┤\n",
       "│            1 │ method       │         1 │ VALIDITY     │ 102400 │ Constant     │\n",
       "│            2 │ request      │         2 │ VARCHAR      │   3459 │ Uncompressed │\n",
       "│            2 │ referrer     │         5 │ VARCHAR      │ 102400 │ Dictionary   │\n",
       "│            2 │ method       │         1 │ VALIDITY     │ 102400 │ Constant     │\n",
       "│            3 │ request      │         2 │ VARCHAR      │   5086 │ Uncompressed │\n",
       "│            3 │ status       │         3 │ VALIDITY     │ 102400 │ Constant     │\n",
       "│            3 │ request      │         2 │ VARCHAR      │   4886 │ Uncompressed │\n",
       "│            4 │ request      │         2 │ VARCHAR      │   5032 │ Uncompressed │\n",
       "│            4 │ useragent_id │         6 │ VALIDITY     │ 102400 │ Constant     │\n",
       "│            4 │ request      │         2 │ VARCHAR      │   6121 │ Uncompressed │\n",
       "├──────────────┴──────────────┴───────────┴──────────────┴────────┴──────────────┤\n",
       "│ 10 rows                                                              6 columns │\n",
       "└────────────────────────────────────────────────────────────────────────────────┘"
      ]
     },
     "execution_count": 46,
     "metadata": {},
     "output_type": "execute_result"
    }
   ],
   "source": [
    "dbc.sql(\"\"\"\n",
    "SELECT * EXCLUDE (column_path, segment_id, start, stats, persistent, block_id, block_offset, has_updates)\n",
    "FROM pragma_storage_info('uniprotkb')\n",
    "USING SAMPLE 10 ROWS\n",
    "ORDER BY row_group_id;\n",
    "\"\"\")"
   ]
  },
  {
   "cell_type": "code",
   "execution_count": 28,
   "id": "e85c6179",
   "metadata": {},
   "outputs": [],
   "source": [
    "sha512hash = 'e4fa7b8eca5d7dd5bbfb2acbe99581da3e3de752355f4295918b9db16a0e6ac6efedbb94819d69ddfbd2fac6a1421ab8a070ee3e75ca2463cf37f375857d922c'"
   ]
  },
  {
   "cell_type": "code",
   "execution_count": 34,
   "id": "0cc5946d",
   "metadata": {},
   "outputs": [],
   "source": [
    "r = dbc.sql(\n",
    "        f\"SELECT * FROM log_meta WHERE sha512hash = '{sha512hash}'\"\n",
    "    )"
   ]
  },
  {
   "cell_type": "code",
   "execution_count": 35,
   "id": "3a5fb7de",
   "metadata": {},
   "outputs": [
    {
     "data": {
      "text/plain": [
       "False"
      ]
     },
     "execution_count": 35,
     "metadata": {},
     "output_type": "execute_result"
    }
   ],
   "source": [
    "bool(r)"
   ]
  },
  {
   "cell_type": "code",
   "execution_count": 33,
   "id": "94b103d1",
   "metadata": {},
   "outputs": [
    {
     "data": {
      "text/plain": [
       "1"
      ]
     },
     "execution_count": 33,
     "metadata": {},
     "output_type": "execute_result"
    }
   ],
   "source": [
    "len(r)"
   ]
  },
  {
   "cell_type": "code",
   "execution_count": 4,
   "id": "267eac9c",
   "metadata": {},
   "outputs": [
    {
     "name": "stdout",
     "output_type": "stream",
     "text": [
      "foo.duckdb\r\n"
     ]
    }
   ],
   "source": [
    "!ls foo.duckdb"
   ]
  },
  {
   "cell_type": "code",
   "execution_count": 5,
   "id": "cb419372",
   "metadata": {},
   "outputs": [],
   "source": [
    "#!rm foo.duckdb*"
   ]
  },
  {
   "cell_type": "code",
   "execution_count": 4,
   "id": "86fea591",
   "metadata": {},
   "outputs": [],
   "source": [
    "db.setup_tables(dbc, \"uniprotkb\")"
   ]
  },
  {
   "cell_type": "code",
   "execution_count": 12,
   "id": "07fd85a9",
   "metadata": {},
   "outputs": [],
   "source": [
    "dbc.sql(\"DROP TABLE uniprotkb; DROP TABLE log_meta\")"
   ]
  },
  {
   "cell_type": "code",
   "execution_count": 7,
   "id": "918bbb8b",
   "metadata": {},
   "outputs": [],
   "source": [
    "db.restore_useragent_family(dbc, 'useragent_family_df.csv')"
   ]
  },
  {
   "cell_type": "code",
   "execution_count": 8,
   "id": "00feaf17",
   "metadata": {},
   "outputs": [],
   "source": [
    "db.restore_useragent(dbc, 'useragent_df.csv')"
   ]
  },
  {
   "cell_type": "code",
   "execution_count": 36,
   "id": "6b7cd57c",
   "metadata": {},
   "outputs": [],
   "source": [
    "dbc.close()"
   ]
  },
  {
   "cell_type": "code",
   "execution_count": 18,
   "id": "0bd84504",
   "metadata": {},
   "outputs": [],
   "source": [
    "a = dbc.sql(\"SELECT sha512hash FROM log_meta\")"
   ]
  },
  {
   "cell_type": "code",
   "execution_count": 19,
   "id": "07754d97",
   "metadata": {},
   "outputs": [
    {
     "data": {
      "text/plain": [
       "┌────────────┐\n",
       "│ sha512hash │\n",
       "│  varchar   │\n",
       "├────────────┤\n",
       "│   0 rows   │\n",
       "└────────────┘"
      ]
     },
     "execution_count": 19,
     "metadata": {},
     "output_type": "execute_result"
    }
   ],
   "source": [
    "a"
   ]
  },
  {
   "cell_type": "code",
   "execution_count": 20,
   "id": "45a0e1ee",
   "metadata": {},
   "outputs": [
    {
     "data": {
      "text/plain": [
       "False"
      ]
     },
     "execution_count": 20,
     "metadata": {},
     "output_type": "execute_result"
    }
   ],
   "source": [
    "bool(a)"
   ]
  },
  {
   "cell_type": "code",
   "execution_count": 22,
   "id": "3b58e454",
   "metadata": {},
   "outputs": [],
   "source": [
    "sha512hash = ''\n",
    "results = dbc.sql(\n",
    "        f\"SELECT COUNT(*) FROM uniprotkb\"\n",
    "    )"
   ]
  },
  {
   "cell_type": "code",
   "execution_count": 23,
   "id": "d4bd2559",
   "metadata": {},
   "outputs": [
    {
     "data": {
      "text/plain": [
       "┌──────────────┐\n",
       "│ count_star() │\n",
       "│    int64     │\n",
       "├──────────────┤\n",
       "│            0 │\n",
       "└──────────────┘"
      ]
     },
     "execution_count": 23,
     "metadata": {},
     "output_type": "execute_result"
    }
   ],
   "source": [
    "results"
   ]
  },
  {
   "cell_type": "code",
   "execution_count": 9,
   "id": "c4a2247c",
   "metadata": {},
   "outputs": [
    {
     "data": {
      "text/plain": [
       "┌───────┬──────────────────────────────────────────────────────────────────────────────────────────────────┬───────────┐\n",
       "│  id   │                                              string                                              │ family_id │\n",
       "│ int32 │                                             varchar                                              │   int32   │\n",
       "├───────┼──────────────────────────────────────────────────────────────────────────────────────────────────┼───────────┤\n",
       "│     0 │                                                                                                  │         0 │\n",
       "│     1 │ \"Mozilla/5.0 (Windows NT 10.0; Win64; x64) AppleWebKit/537.36 (KHTML, like Gecko) Chrome/105.0…  │         1 │\n",
       "│     2 │ \"Mozilla/5.0 (Windows NT 10.0; Win64; x64) AppleWebKit/537.36 (KHTML, like Gecko) Chrome/106.0…  │         2 │\n",
       "│     3 │ \"Mozilla/5.0 (iPod; U; CPU iPhone OS 2_1 like Mac OS X; ja-jp) AppleWebKit/525.18.1 (KHTML, li…  │         3 │\n",
       "│     4 │ -                                                                                                │         0 │\n",
       "│     5 │ 86c9f4628c0818130c516abf796b186a                                                                 │         0 │\n",
       "│     6 │ 89.0.4389.114                                                                                    │         0 │\n",
       "│     7 │ ADSSO Mozilla/5.0 (Macintosh; Intel Mac OS X 10.13; rv:52.0) Gecko/20100101 Firefox/52.0         │         4 │\n",
       "│     8 │ AHC/1.0                                                                                          │         5 │\n",
       "│     9 │ AHC/2.1                                                                                          │         5 │\n",
       "│     · │    ·                                                                                             │         · │\n",
       "│     · │    ·                                                                                             │         · │\n",
       "│     · │    ·                                                                                             │         · │\n",
       "│  9990 │ Mozilla/5.0 (Linux; Android 10; Redmi Note 7 Pro) AppleWebKit/537.36 (KHTML, like Gecko) Chrom…  │        56 │\n",
       "│  9991 │ Mozilla/5.0 (Linux; Android 10; Redmi Note 7 Pro) AppleWebKit/537.36 (KHTML, like Gecko) Chrom…  │        56 │\n",
       "│  9992 │ Mozilla/5.0 (Linux; Android 10; Redmi Note 7 Pro) AppleWebKit/537.36 (KHTML, like Gecko) Chrom…  │        56 │\n",
       "│  9993 │ Mozilla/5.0 (Linux; Android 10; Redmi Note 7 Pro) AppleWebKit/537.36 (KHTML, like Gecko) Chrom…  │        56 │\n",
       "│  9994 │ Mozilla/5.0 (Linux; Android 10; Redmi Note 7 Pro) AppleWebKit/537.36 (KHTML, like Gecko) Chrom…  │        56 │\n",
       "│  9995 │ Mozilla/5.0 (Linux; Android 10; Redmi Note 7 Pro) AppleWebKit/537.36 (KHTML, like Gecko) Chrom…  │        56 │\n",
       "│  9996 │ Mozilla/5.0 (Linux; Android 10; Redmi Note 7 Pro) AppleWebKit/537.36 (KHTML, like Gecko) Chrom…  │        56 │\n",
       "│  9997 │ Mozilla/5.0 (Linux; Android 10; Redmi Note 7 Pro) AppleWebKit/537.36 (KHTML, like Gecko) Chrom…  │        56 │\n",
       "│  9998 │ Mozilla/5.0 (Linux; Android 10; Redmi Note 7 Pro) AppleWebKit/537.36 (KHTML, like Gecko) Chrom…  │        56 │\n",
       "│  9999 │ Mozilla/5.0 (Linux; Android 10; Redmi Note 7 Pro) AppleWebKit/537.36 (KHTML, like Gecko) Chrom…  │        56 │\n",
       "├───────┴──────────────────────────────────────────────────────────────────────────────────────────────────┴───────────┤\n",
       "│ ? rows (>9999 rows, 20 shown)                                                                              3 columns │\n",
       "└──────────────────────────────────────────────────────────────────────────────────────────────────────────────────────┘"
      ]
     },
     "execution_count": 9,
     "metadata": {},
     "output_type": "execute_result"
    }
   ],
   "source": [
    "dbc.sql(\"SELECT * FROM useragent\")"
   ]
  },
  {
   "cell_type": "code",
   "execution_count": 17,
   "id": "99c889a4",
   "metadata": {},
   "outputs": [
    {
     "data": {
      "text/plain": [
       "<duckdb.DuckDBPyConnection at 0x1120f9af0>"
      ]
     },
     "execution_count": 17,
     "metadata": {},
     "output_type": "execute_result"
    }
   ],
   "source": [
    "dbc"
   ]
  },
  {
   "cell_type": "code",
   "execution_count": 12,
   "id": "66209638",
   "metadata": {},
   "outputs": [
    {
     "data": {
      "text/plain": [
       "'/Volumes/Developer/uniprot-log-file-parser'"
      ]
     },
     "execution_count": 12,
     "metadata": {},
     "output_type": "execute_result"
    }
   ],
   "source": [
    "pwd"
   ]
  },
  {
   "cell_type": "code",
   "execution_count": 11,
   "id": "a642a991",
   "metadata": {},
   "outputs": [
    {
     "data": {
      "text/plain": [
       "┌───────┬───────────────────────┬───────────────────────┬─────────┐\n",
       "│  id   │        family         │         type          │  major  │\n",
       "│ int32 │        varchar        │ useragent_family_type │ boolean │\n",
       "├───────┼───────────────────────┼───────────────────────┼─────────┤\n",
       "│     0 │ Other                 │ unknown               │ false   │\n",
       "│     1 │ Edge                  │ browser               │ true    │\n",
       "│     2 │ Chrome                │ browser               │ true    │\n",
       "│     3 │ Mobile Safari         │ browser               │ true    │\n",
       "│     4 │ Firefox               │ browser               │ true    │\n",
       "│     5 │ AHC                   │ bot                   │ false   │\n",
       "│     6 │ ActionExtension       │ unknown               │ false   │\n",
       "│     7 │ AdsBot-Google         │ bot                   │ false   │\n",
       "│     8 │ Aloha                 │ unknown               │ false   │\n",
       "│     9 │ Chrome Mobile WebView │ browser               │ true    │\n",
       "│     · │    ·                  │    ·                  │  ·      │\n",
       "│     · │    ·                  │    ·                  │  ·      │\n",
       "│     · │    ·                  │    ·                  │  ·      │\n",
       "│   192 │ insomnia              │ browser               │ false   │\n",
       "│   193 │ jpg-newsbot           │ bot                   │ false   │\n",
       "│   194 │ ldspider              │ bot                   │ false   │\n",
       "│   195 │ lua-resty-http        │ programmatic          │ false   │\n",
       "│   196 │ okhttp                │ programmatic          │ false   │\n",
       "│   197 │ AccompanyBot          │ bot                   │ false   │\n",
       "│   198 │ Python Requests       │ programmatic          │ true    │\n",
       "│   199 │ rn3                   │ unknown               │ false   │\n",
       "│   200 │ ureq                  │ programmatic          │ false   │\n",
       "│   201 │ yacybot               │ bot                   │ false   │\n",
       "├───────┴───────────────────────┴───────────────────────┴─────────┤\n",
       "│ 202 rows (20 shown)                                   4 columns │\n",
       "└─────────────────────────────────────────────────────────────────┘"
      ]
     },
     "execution_count": 11,
     "metadata": {},
     "output_type": "execute_result"
    }
   ],
   "source": [
    "dbc.sql(\"SELECT * FROM useragent_family\")"
   ]
  },
  {
   "cell_type": "code",
   "execution_count": 16,
   "id": "280ed829",
   "metadata": {},
   "outputs": [
    {
     "name": "stdout",
     "output_type": "stream",
     "text": [
      "  421416 /Volumes/Developer/logs/uniprotkb/prod-0/access_log.2023-03-25.log\r\n"
     ]
    }
   ],
   "source": [
    "!wc -l /Volumes/Developer/logs/uniprotkb/prod-0/access_log.2023-03-25.log"
   ]
  },
  {
   "cell_type": "code",
   "execution_count": 10,
   "id": "1cbcd21c",
   "metadata": {},
   "outputs": [],
   "source": [
    "log_path = \"/Volumes/Developer/logs/uniprotkb/prod-0/access_log.2023-03-25.log\""
   ]
  },
  {
   "cell_type": "code",
   "execution_count": 13,
   "id": "ff17167c",
   "metadata": {},
   "outputs": [
    {
     "name": "stderr",
     "output_type": "stream",
     "text": [
      "/Volumes/Developer/logs/uniprotkb/prod-0/access_log.2023-03-25.log imported already\n"
     ]
    }
   ],
   "source": [
    "prepare_and_insert.parse_and_insert_log_file(\"uniprotkb\", dbc, log_path)"
   ]
  },
  {
   "cell_type": "code",
   "execution_count": 13,
   "id": "a94b5c0f",
   "metadata": {},
   "outputs": [],
   "source": [
    "with open(log_path, encoding=\"utf-8\") as file:\n",
    "    log_contents = file.read()\n",
    "log_df, n_lines_skipped = prepare_and_insert.get_log_data_frame(log_contents, log_path)"
   ]
  },
  {
   "cell_type": "code",
   "execution_count": 14,
   "id": "5500e90b",
   "metadata": {},
   "outputs": [
    {
     "data": {
      "text/plain": [
       "0"
      ]
     },
     "execution_count": 14,
     "metadata": {},
     "output_type": "execute_result"
    }
   ],
   "source": [
    "n_lines_skipped"
   ]
  },
  {
   "cell_type": "code",
   "execution_count": 15,
   "id": "66b64aba",
   "metadata": {},
   "outputs": [],
   "source": [
    "unseen_useragent_df = db.get_unseen_useragent_df(dbc, log_df)\n",
    "unseen_useragent_families = db.get_unseen_useragent_families(dbc, unseen_useragent_df)\n",
    "db.insert_unseen_useragent_families(dbc, unseen_useragent_families)\n",
    "db.insert_unseen_useragents(dbc, unseen_useragent_df)"
   ]
  },
  {
   "cell_type": "code",
   "execution_count": 27,
   "id": "e01db686",
   "metadata": {},
   "outputs": [],
   "source": [
    "db.insert_log_data(dbc, 'uniprotkb', log_df)"
   ]
  },
  {
   "cell_type": "code",
   "execution_count": 14,
   "id": "174f07d2",
   "metadata": {},
   "outputs": [],
   "source": [
    "r = dbc.sql(\"\"\"\n",
    "SELECT\n",
    "    datetime,\n",
    "    method,\n",
    "    request,\n",
    "    status,\n",
    "    bytes,\n",
    "    referrer,\n",
    "    ua.id,\n",
    "    ua.string,\n",
    "    uaf.id,\n",
    "    uaf.family\n",
    "FROM\n",
    "    uniprotkb AS uni\n",
    "JOIN\n",
    "    useragent AS ua ON uni.useragent_id = ua.id\n",
    "JOIN\n",
    "    useragent_family AS uaf ON uaf.id = ua.family_id\n",
    "\"\"\").df()"
   ]
  },
  {
   "cell_type": "code",
   "execution_count": 20,
   "id": "9483e899",
   "metadata": {},
   "outputs": [
    {
     "data": {
      "text/html": [
       "<div>\n",
       "<style scoped>\n",
       "    .dataframe tbody tr th:only-of-type {\n",
       "        vertical-align: middle;\n",
       "    }\n",
       "\n",
       "    .dataframe tbody tr th {\n",
       "        vertical-align: top;\n",
       "    }\n",
       "\n",
       "    .dataframe thead th {\n",
       "        text-align: right;\n",
       "    }\n",
       "</style>\n",
       "<table border=\"1\" class=\"dataframe\">\n",
       "  <thead>\n",
       "    <tr style=\"text-align: right;\">\n",
       "      <th></th>\n",
       "      <th>datetime</th>\n",
       "      <th>method</th>\n",
       "      <th>request</th>\n",
       "      <th>status</th>\n",
       "      <th>bytes</th>\n",
       "      <th>referrer</th>\n",
       "      <th>id</th>\n",
       "      <th>string</th>\n",
       "      <th>id_2</th>\n",
       "      <th>family</th>\n",
       "    </tr>\n",
       "  </thead>\n",
       "  <tbody>\n",
       "    <tr>\n",
       "      <th>0</th>\n",
       "      <td>2023-03-25 10:22:19+00:00</td>\n",
       "      <td>GET</td>\n",
       "      <td>/uniprotkb/Q59GL5</td>\n",
       "      <td>200</td>\n",
       "      <td>13554</td>\n",
       "      <td>-</td>\n",
       "      <td>92000</td>\n",
       "      <td>Mozilla/5.0 (X11; CrOS x86_64 12871.102.0) App...</td>\n",
       "      <td>2</td>\n",
       "      <td>Chrome</td>\n",
       "    </tr>\n",
       "    <tr>\n",
       "      <th>1</th>\n",
       "      <td>2023-03-25 10:22:19+00:00</td>\n",
       "      <td>GET</td>\n",
       "      <td>/uniprotkb/Q940S3</td>\n",
       "      <td>200</td>\n",
       "      <td>20214</td>\n",
       "      <td>https://www.uniprot.org/</td>\n",
       "      <td>92156</td>\n",
       "      <td>Mozilla/5.0 (Windows NT 10.0; Win64; x64) Appl...</td>\n",
       "      <td>1</td>\n",
       "      <td>Edge</td>\n",
       "    </tr>\n",
       "    <tr>\n",
       "      <th>2</th>\n",
       "      <td>2023-03-25 10:22:19+00:00</td>\n",
       "      <td>GET</td>\n",
       "      <td>/uniprotkb/search?query=(accession:A0A5D3BYA2)...</td>\n",
       "      <td>200</td>\n",
       "      <td>4040</td>\n",
       "      <td>-</td>\n",
       "      <td>91789</td>\n",
       "      <td>python-requests/2.27.1</td>\n",
       "      <td>198</td>\n",
       "      <td>Python Requests</td>\n",
       "    </tr>\n",
       "    <tr>\n",
       "      <th>3</th>\n",
       "      <td>2023-03-25 10:22:19+00:00</td>\n",
       "      <td>GET</td>\n",
       "      <td>/uniprotkb/Q8IXS2</td>\n",
       "      <td>200</td>\n",
       "      <td>27640</td>\n",
       "      <td>-</td>\n",
       "      <td>92000</td>\n",
       "      <td>Mozilla/5.0 (X11; CrOS x86_64 12871.102.0) App...</td>\n",
       "      <td>2</td>\n",
       "      <td>Chrome</td>\n",
       "    </tr>\n",
       "    <tr>\n",
       "      <th>4</th>\n",
       "      <td>2023-03-25 10:22:19+00:00</td>\n",
       "      <td>GET</td>\n",
       "      <td>/uniprotkb/A0A0K0KSN0</td>\n",
       "      <td>200</td>\n",
       "      <td>4701</td>\n",
       "      <td>-</td>\n",
       "      <td>92000</td>\n",
       "      <td>Mozilla/5.0 (X11; CrOS x86_64 12871.102.0) App...</td>\n",
       "      <td>2</td>\n",
       "      <td>Chrome</td>\n",
       "    </tr>\n",
       "    <tr>\n",
       "      <th>...</th>\n",
       "      <td>...</td>\n",
       "      <td>...</td>\n",
       "      <td>...</td>\n",
       "      <td>...</td>\n",
       "      <td>...</td>\n",
       "      <td>...</td>\n",
       "      <td>...</td>\n",
       "      <td>...</td>\n",
       "      <td>...</td>\n",
       "      <td>...</td>\n",
       "    </tr>\n",
       "    <tr>\n",
       "      <th>421411</th>\n",
       "      <td>2023-03-25 22:24:35+00:00</td>\n",
       "      <td>GET</td>\n",
       "      <td>/uniprotkb/A0A2Y9JNI3.fasta</td>\n",
       "      <td>200</td>\n",
       "      <td>466</td>\n",
       "      <td>https://www.uniprot.org/uniprot/A0A2Y9JNI3</td>\n",
       "      <td>46332</td>\n",
       "      <td>Mozilla/5.0 (Linux; Android 7.0;) AppleWebKit/...</td>\n",
       "      <td>77</td>\n",
       "      <td>PetalBot</td>\n",
       "    </tr>\n",
       "    <tr>\n",
       "      <th>421412</th>\n",
       "      <td>2023-03-25 22:24:36+00:00</td>\n",
       "      <td>GET</td>\n",
       "      <td>/uniprotkb/A0A2N9EGE3.fasta</td>\n",
       "      <td>200</td>\n",
       "      <td>587</td>\n",
       "      <td>http://www.uniprot.org/uniprot/A0A2N9EGE3</td>\n",
       "      <td>46332</td>\n",
       "      <td>Mozilla/5.0 (Linux; Android 7.0;) AppleWebKit/...</td>\n",
       "      <td>77</td>\n",
       "      <td>PetalBot</td>\n",
       "    </tr>\n",
       "    <tr>\n",
       "      <th>421413</th>\n",
       "      <td>2023-03-25 22:24:39+00:00</td>\n",
       "      <td>GET</td>\n",
       "      <td>/uniprotkb/A0A2H3ZMJ3.fasta</td>\n",
       "      <td>200</td>\n",
       "      <td>5</td>\n",
       "      <td>https://www.uniprot.org/uniprot/A0A2H3ZMJ3</td>\n",
       "      <td>46332</td>\n",
       "      <td>Mozilla/5.0 (Linux; Android 7.0;) AppleWebKit/...</td>\n",
       "      <td>77</td>\n",
       "      <td>PetalBot</td>\n",
       "    </tr>\n",
       "    <tr>\n",
       "      <th>421414</th>\n",
       "      <td>2023-03-25 22:24:41+00:00</td>\n",
       "      <td>GET</td>\n",
       "      <td>/uniprotkb/A0A2Z5Y567.fasta</td>\n",
       "      <td>200</td>\n",
       "      <td>253</td>\n",
       "      <td>https://www.uniprot.org/uniprot/A0A2Z5Y567</td>\n",
       "      <td>46332</td>\n",
       "      <td>Mozilla/5.0 (Linux; Android 7.0;) AppleWebKit/...</td>\n",
       "      <td>77</td>\n",
       "      <td>PetalBot</td>\n",
       "    </tr>\n",
       "    <tr>\n",
       "      <th>421415</th>\n",
       "      <td>2023-03-25 22:24:43+00:00</td>\n",
       "      <td>GET</td>\n",
       "      <td>/uniprotkb/A0A3D4XK04.fasta</td>\n",
       "      <td>200</td>\n",
       "      <td>5</td>\n",
       "      <td>https://www.uniprot.org/uniprot/A0A3D4XK04</td>\n",
       "      <td>46332</td>\n",
       "      <td>Mozilla/5.0 (Linux; Android 7.0;) AppleWebKit/...</td>\n",
       "      <td>77</td>\n",
       "      <td>PetalBot</td>\n",
       "    </tr>\n",
       "  </tbody>\n",
       "</table>\n",
       "<p>421416 rows × 10 columns</p>\n",
       "</div>"
      ],
      "text/plain": [
       "                        datetime method  \\\n",
       "0      2023-03-25 10:22:19+00:00    GET   \n",
       "1      2023-03-25 10:22:19+00:00    GET   \n",
       "2      2023-03-25 10:22:19+00:00    GET   \n",
       "3      2023-03-25 10:22:19+00:00    GET   \n",
       "4      2023-03-25 10:22:19+00:00    GET   \n",
       "...                          ...    ...   \n",
       "421411 2023-03-25 22:24:35+00:00    GET   \n",
       "421412 2023-03-25 22:24:36+00:00    GET   \n",
       "421413 2023-03-25 22:24:39+00:00    GET   \n",
       "421414 2023-03-25 22:24:41+00:00    GET   \n",
       "421415 2023-03-25 22:24:43+00:00    GET   \n",
       "\n",
       "                                                  request  status  bytes  \\\n",
       "0                                       /uniprotkb/Q59GL5     200  13554   \n",
       "1                                       /uniprotkb/Q940S3     200  20214   \n",
       "2       /uniprotkb/search?query=(accession:A0A5D3BYA2)...     200   4040   \n",
       "3                                       /uniprotkb/Q8IXS2     200  27640   \n",
       "4                                   /uniprotkb/A0A0K0KSN0     200   4701   \n",
       "...                                                   ...     ...    ...   \n",
       "421411                        /uniprotkb/A0A2Y9JNI3.fasta     200    466   \n",
       "421412                        /uniprotkb/A0A2N9EGE3.fasta     200    587   \n",
       "421413                        /uniprotkb/A0A2H3ZMJ3.fasta     200      5   \n",
       "421414                        /uniprotkb/A0A2Z5Y567.fasta     200    253   \n",
       "421415                        /uniprotkb/A0A3D4XK04.fasta     200      5   \n",
       "\n",
       "                                          referrer     id  \\\n",
       "0                                                -  92000   \n",
       "1                         https://www.uniprot.org/  92156   \n",
       "2                                                -  91789   \n",
       "3                                                -  92000   \n",
       "4                                                -  92000   \n",
       "...                                            ...    ...   \n",
       "421411  https://www.uniprot.org/uniprot/A0A2Y9JNI3  46332   \n",
       "421412   http://www.uniprot.org/uniprot/A0A2N9EGE3  46332   \n",
       "421413  https://www.uniprot.org/uniprot/A0A2H3ZMJ3  46332   \n",
       "421414  https://www.uniprot.org/uniprot/A0A2Z5Y567  46332   \n",
       "421415  https://www.uniprot.org/uniprot/A0A3D4XK04  46332   \n",
       "\n",
       "                                                   string  id_2  \\\n",
       "0       Mozilla/5.0 (X11; CrOS x86_64 12871.102.0) App...     2   \n",
       "1       Mozilla/5.0 (Windows NT 10.0; Win64; x64) Appl...     1   \n",
       "2                                  python-requests/2.27.1   198   \n",
       "3       Mozilla/5.0 (X11; CrOS x86_64 12871.102.0) App...     2   \n",
       "4       Mozilla/5.0 (X11; CrOS x86_64 12871.102.0) App...     2   \n",
       "...                                                   ...   ...   \n",
       "421411  Mozilla/5.0 (Linux; Android 7.0;) AppleWebKit/...    77   \n",
       "421412  Mozilla/5.0 (Linux; Android 7.0;) AppleWebKit/...    77   \n",
       "421413  Mozilla/5.0 (Linux; Android 7.0;) AppleWebKit/...    77   \n",
       "421414  Mozilla/5.0 (Linux; Android 7.0;) AppleWebKit/...    77   \n",
       "421415  Mozilla/5.0 (Linux; Android 7.0;) AppleWebKit/...    77   \n",
       "\n",
       "                 family  \n",
       "0                Chrome  \n",
       "1                  Edge  \n",
       "2       Python Requests  \n",
       "3                Chrome  \n",
       "4                Chrome  \n",
       "...                 ...  \n",
       "421411         PetalBot  \n",
       "421412         PetalBot  \n",
       "421413         PetalBot  \n",
       "421414         PetalBot  \n",
       "421415         PetalBot  \n",
       "\n",
       "[421416 rows x 10 columns]"
      ]
     },
     "execution_count": 20,
     "metadata": {},
     "output_type": "execute_result"
    }
   ],
   "source": []
  },
  {
   "cell_type": "code",
   "execution_count": 22,
   "id": "ae913483",
   "metadata": {},
   "outputs": [
    {
     "data": {
      "text/plain": [
       "┌──────────────────────────┬─────────┬─────────┬────────┬────────┬──────────┬──────────────┐\n",
       "│         datetime         │ method  │ request │ status │ bytes  │ referrer │ useragent_id │\n",
       "│ timestamp with time zone │ varchar │ varchar │ uint16 │ uint64 │ varchar  │    int32     │\n",
       "├──────────────────────────────────────────────────────────────────────────────────────────┤\n",
       "│                                          0 rows                                          │\n",
       "└──────────────────────────────────────────────────────────────────────────────────────────┘"
      ]
     },
     "execution_count": 22,
     "metadata": {},
     "output_type": "execute_result"
    }
   ],
   "source": [
    "dbc.sql(\"\"\"\n",
    "SELECT\n",
    "    *\n",
    "FROM\n",
    "    uniprotkb\n",
    "\"\"\")"
   ]
  },
  {
   "cell_type": "code",
   "execution_count": 102,
   "id": "c47c6f33",
   "metadata": {},
   "outputs": [],
   "source": [
    "tr = dbc.sql(\"\"\"\n",
    "SELECT\n",
    "    *\n",
    "FROM\n",
    "    uniprotkb\n",
    "\"\"\").df()"
   ]
  },
  {
   "cell_type": "code",
   "execution_count": 103,
   "id": "d5b4cb80",
   "metadata": {},
   "outputs": [
    {
     "data": {
      "text/html": [
       "<div>\n",
       "<style scoped>\n",
       "    .dataframe tbody tr th:only-of-type {\n",
       "        vertical-align: middle;\n",
       "    }\n",
       "\n",
       "    .dataframe tbody tr th {\n",
       "        vertical-align: top;\n",
       "    }\n",
       "\n",
       "    .dataframe thead th {\n",
       "        text-align: right;\n",
       "    }\n",
       "</style>\n",
       "<table border=\"1\" class=\"dataframe\">\n",
       "  <thead>\n",
       "    <tr style=\"text-align: right;\">\n",
       "      <th></th>\n",
       "      <th>datetime</th>\n",
       "      <th>method</th>\n",
       "      <th>request</th>\n",
       "      <th>status</th>\n",
       "      <th>bytes</th>\n",
       "      <th>referrer</th>\n",
       "      <th>useragent_id</th>\n",
       "    </tr>\n",
       "  </thead>\n",
       "  <tbody>\n",
       "    <tr>\n",
       "      <th>0</th>\n",
       "      <td>2023-01-08 00:00:01+00:00</td>\n",
       "      <td>GET</td>\n",
       "      <td>/uniprotkb/Q12346</td>\n",
       "      <td>200</td>\n",
       "      <td>11428</td>\n",
       "      <td>-</td>\n",
       "      <td>78921</td>\n",
       "    </tr>\n",
       "    <tr>\n",
       "      <th>1</th>\n",
       "      <td>2023-01-08 00:00:01+00:00</td>\n",
       "      <td>GET</td>\n",
       "      <td>/uniprotkb/Q5XF89</td>\n",
       "      <td>200</td>\n",
       "      <td>28587</td>\n",
       "      <td>-</td>\n",
       "      <td>78921</td>\n",
       "    </tr>\n",
       "    <tr>\n",
       "      <th>2</th>\n",
       "      <td>2023-01-08 00:00:01+00:00</td>\n",
       "      <td>GET</td>\n",
       "      <td>/uniprotkb/C7J5M3</td>\n",
       "      <td>200</td>\n",
       "      <td>6923</td>\n",
       "      <td>-</td>\n",
       "      <td>78921</td>\n",
       "    </tr>\n",
       "    <tr>\n",
       "      <th>3</th>\n",
       "      <td>2023-01-08 00:00:25+00:00</td>\n",
       "      <td>GET</td>\n",
       "      <td>/uniprotkb/P56728.fasta</td>\n",
       "      <td>200</td>\n",
       "      <td>435</td>\n",
       "      <td>-</td>\n",
       "      <td>78921</td>\n",
       "    </tr>\n",
       "    <tr>\n",
       "      <th>4</th>\n",
       "      <td>2023-01-08 00:00:26+00:00</td>\n",
       "      <td>GET</td>\n",
       "      <td>/uniprotkb/P90122.fasta</td>\n",
       "      <td>200</td>\n",
       "      <td>192</td>\n",
       "      <td>-</td>\n",
       "      <td>78921</td>\n",
       "    </tr>\n",
       "    <tr>\n",
       "      <th>...</th>\n",
       "      <td>...</td>\n",
       "      <td>...</td>\n",
       "      <td>...</td>\n",
       "      <td>...</td>\n",
       "      <td>...</td>\n",
       "      <td>...</td>\n",
       "      <td>...</td>\n",
       "    </tr>\n",
       "    <tr>\n",
       "      <th>162398</th>\n",
       "      <td>2023-01-08 23:54:29+00:00</td>\n",
       "      <td>GET</td>\n",
       "      <td>/uniprotkb/search?cursor=19y2z6pm9i1pj1jbc4vr2...</td>\n",
       "      <td>200</td>\n",
       "      <td>21849</td>\n",
       "      <td>https://www.uniprot.org/</td>\n",
       "      <td>21937</td>\n",
       "    </tr>\n",
       "    <tr>\n",
       "      <th>162399</th>\n",
       "      <td>2023-01-08 23:56:56+00:00</td>\n",
       "      <td>GET</td>\n",
       "      <td>/uniprotkb/search?facets=reviewed%2Cmodel_orga...</td>\n",
       "      <td>200</td>\n",
       "      <td>24</td>\n",
       "      <td>https://www.uniprot.org/</td>\n",
       "      <td>21937</td>\n",
       "    </tr>\n",
       "    <tr>\n",
       "      <th>162400</th>\n",
       "      <td>2023-01-08 23:58:09+00:00</td>\n",
       "      <td>GET</td>\n",
       "      <td>/uniprotkb/S5AA40</td>\n",
       "      <td>200</td>\n",
       "      <td>6340</td>\n",
       "      <td>https://www.uniprot.org/</td>\n",
       "      <td>6887</td>\n",
       "    </tr>\n",
       "    <tr>\n",
       "      <th>162401</th>\n",
       "      <td>2023-01-08 23:59:29+00:00</td>\n",
       "      <td>GET</td>\n",
       "      <td>/uniprotkb/search?fields=accession%2Creviewed%...</td>\n",
       "      <td>200</td>\n",
       "      <td>49808</td>\n",
       "      <td>https://www.uniprot.org/</td>\n",
       "      <td>67343</td>\n",
       "    </tr>\n",
       "    <tr>\n",
       "      <th>162402</th>\n",
       "      <td>2023-01-08 23:59:29+00:00</td>\n",
       "      <td>GET</td>\n",
       "      <td>/uniprotkb/search?query=scap&amp;showSingleTermMat...</td>\n",
       "      <td>200</td>\n",
       "      <td>183</td>\n",
       "      <td>https://www.uniprot.org/</td>\n",
       "      <td>67343</td>\n",
       "    </tr>\n",
       "  </tbody>\n",
       "</table>\n",
       "<p>162403 rows × 7 columns</p>\n",
       "</div>"
      ],
      "text/plain": [
       "                        datetime method  \\\n",
       "0      2023-01-08 00:00:01+00:00    GET   \n",
       "1      2023-01-08 00:00:01+00:00    GET   \n",
       "2      2023-01-08 00:00:01+00:00    GET   \n",
       "3      2023-01-08 00:00:25+00:00    GET   \n",
       "4      2023-01-08 00:00:26+00:00    GET   \n",
       "...                          ...    ...   \n",
       "162398 2023-01-08 23:54:29+00:00    GET   \n",
       "162399 2023-01-08 23:56:56+00:00    GET   \n",
       "162400 2023-01-08 23:58:09+00:00    GET   \n",
       "162401 2023-01-08 23:59:29+00:00    GET   \n",
       "162402 2023-01-08 23:59:29+00:00    GET   \n",
       "\n",
       "                                                  request  status  bytes  \\\n",
       "0                                       /uniprotkb/Q12346     200  11428   \n",
       "1                                       /uniprotkb/Q5XF89     200  28587   \n",
       "2                                       /uniprotkb/C7J5M3     200   6923   \n",
       "3                                 /uniprotkb/P56728.fasta     200    435   \n",
       "4                                 /uniprotkb/P90122.fasta     200    192   \n",
       "...                                                   ...     ...    ...   \n",
       "162398  /uniprotkb/search?cursor=19y2z6pm9i1pj1jbc4vr2...     200  21849   \n",
       "162399  /uniprotkb/search?facets=reviewed%2Cmodel_orga...     200     24   \n",
       "162400                                  /uniprotkb/S5AA40     200   6340   \n",
       "162401  /uniprotkb/search?fields=accession%2Creviewed%...     200  49808   \n",
       "162402  /uniprotkb/search?query=scap&showSingleTermMat...     200    183   \n",
       "\n",
       "                        referrer  useragent_id  \n",
       "0                              -         78921  \n",
       "1                              -         78921  \n",
       "2                              -         78921  \n",
       "3                              -         78921  \n",
       "4                              -         78921  \n",
       "...                          ...           ...  \n",
       "162398  https://www.uniprot.org/         21937  \n",
       "162399  https://www.uniprot.org/         21937  \n",
       "162400  https://www.uniprot.org/          6887  \n",
       "162401  https://www.uniprot.org/         67343  \n",
       "162402  https://www.uniprot.org/         67343  \n",
       "\n",
       "[162403 rows x 7 columns]"
      ]
     },
     "execution_count": 103,
     "metadata": {},
     "output_type": "execute_result"
    }
   ],
   "source": [
    "tr"
   ]
  },
  {
   "cell_type": "code",
   "execution_count": 138,
   "id": "e54f0ced",
   "metadata": {
    "scrolled": true
   },
   "outputs": [],
   "source": [
    "db.update_useragents(dbc, unseen_items_df)"
   ]
  },
  {
   "cell_type": "code",
   "execution_count": 27,
   "id": "ceb00b3e",
   "metadata": {},
   "outputs": [
    {
     "data": {
      "text/html": [
       "<div>\n",
       "<style scoped>\n",
       "    .dataframe tbody tr th:only-of-type {\n",
       "        vertical-align: middle;\n",
       "    }\n",
       "\n",
       "    .dataframe tbody tr th {\n",
       "        vertical-align: top;\n",
       "    }\n",
       "\n",
       "    .dataframe thead th {\n",
       "        text-align: right;\n",
       "    }\n",
       "</style>\n",
       "<table border=\"1\" class=\"dataframe\">\n",
       "  <thead>\n",
       "    <tr style=\"text-align: right;\">\n",
       "      <th></th>\n",
       "      <th>datetime</th>\n",
       "      <th>method</th>\n",
       "      <th>request</th>\n",
       "      <th>status</th>\n",
       "      <th>bytes</th>\n",
       "      <th>referrer</th>\n",
       "      <th>useragent</th>\n",
       "      <th>id</th>\n",
       "      <th>string</th>\n",
       "    </tr>\n",
       "  </thead>\n",
       "  <tbody>\n",
       "  </tbody>\n",
       "</table>\n",
       "</div>"
      ],
      "text/plain": [
       "Empty DataFrame\n",
       "Columns: [datetime, method, request, status, bytes, referrer, useragent, id, string]\n",
       "Index: []"
      ]
     },
     "execution_count": 27,
     "metadata": {},
     "output_type": "execute_result"
    }
   ],
   "source": [
    "merged[merged[\"id\"].isnull()]"
   ]
  },
  {
   "cell_type": "code",
   "execution_count": 145,
   "id": "c5f60da5",
   "metadata": {},
   "outputs": [
    {
     "data": {
      "text/plain": [
       "┌───────────────────────────────────────────────────────────┬───────────────────────┬────────────────┬─────────┬───────┐\n",
       "│                          string                           │        family         │      type      │  major  │  id   │\n",
       "│                          varchar                          │        varchar        │ useragent_type │ boolean │ int32 │\n",
       "├───────────────────────────────────────────────────────────┼───────────────────────┼────────────────┼─────────┼───────┤\n",
       "│ Mozilla/5.0 (Linux; Android 12; LSA-AN00; HMSCore 6.9.0…  │ Chrome                │ unknown        │ NULL    │ 91835 │\n",
       "│ Mozilla/5.0 (Linux; Android 11; SM-G9750) AppleWebKit/5…  │ Chrome Mobile         │ unknown        │ NULL    │ 91836 │\n",
       "│ Mozilla/5.0 (Linux; Android 10; MAR-LX1A) AppleWebKit/5…  │ Chrome Mobile         │ unknown        │ NULL    │ 91837 │\n",
       "│ Mozilla/5.0 (Linux; Android 11; RMX3506) AppleWebKit/53…  │ Chrome Mobile         │ unknown        │ NULL    │ 91838 │\n",
       "│ Mozilla/5.0 (Linux; U; Android 12; zh-CN; 22101316C Bui…  │ Chrome Mobile WebView │ unknown        │ NULL    │ 91839 │\n",
       "│ Mozilla/5.0 (Linux; U; Android 12; zh-CN; Mi 10 Build/S…  │ Chrome Mobile WebView │ unknown        │ NULL    │ 91840 │\n",
       "│ Mozilla/5.0 (Linux; Android 11; Infinix X689C) AppleWeb…  │ Chrome Mobile         │ unknown        │ NULL    │ 91841 │\n",
       "│ Mozilla/5.0 (Android 10; Tablet; rv:68.0) Gecko/68.0 Fi…  │ Firefox Mobile        │ unknown        │ NULL    │ 91842 │\n",
       "│ ZhihuHybrid DefaultBrowser com.zhihu.android/Futureve/8…  │ Chrome Mobile WebView │ unknown        │ NULL    │ 91843 │\n",
       "│ Mozilla/5.0 (Macintosh; Intel Mac OS X 10_15_7) AppleWe…  │ Edge                  │ unknown        │ NULL    │ 91844 │\n",
       "│                             ·                             │  ·                    │    ·           │  ·      │   ·   │\n",
       "│                             ·                             │  ·                    │    ·           │  ·      │   ·   │\n",
       "│                             ·                             │  ·                    │    ·           │  ·      │   ·   │\n",
       "│ Mozilla/5.0 (Linux; Android 10; SM-A015G) AppleWebKit/5…  │ Chrome Mobile         │ unknown        │ NULL    │ 91944 │\n",
       "│ Mozilla/5.0 (Windows NT 6.1; Win64; x64; rv:22.0) Gecko…  │ Firefox               │ unknown        │ NULL    │ 91945 │\n",
       "│ Mozilla/5.0 (Linux; Android 9; SM-A307GN) AppleWebKit/5…  │ Chrome Mobile         │ unknown        │ NULL    │ 91946 │\n",
       "│ Mozilla/5.0 (Linux; U; Android 10; zh-Hans-CN; JEF-AN00…  │ Chrome Mobile WebView │ unknown        │ NULL    │ 91947 │\n",
       "│ Mozilla/5.0 (Linux; Android 12; ZS676KS) AppleWebKit/53…  │ Chrome Mobile         │ unknown        │ NULL    │ 91948 │\n",
       "│ Mozilla/5.0 (Linux; Android 12; LS1542QWN Build/SKQ1.22…  │ Chrome Mobile         │ unknown        │ NULL    │ 91949 │\n",
       "│ Mozilla/5.0 (Macintosh; Intel Mac OS X 10_15_7) AppleWe…  │ Edge                  │ unknown        │ NULL    │ 91950 │\n",
       "│ Mozilla/5.0 (Linux; Android 10; itel A16 Plus) AppleWeb…  │ Chrome Mobile         │ unknown        │ NULL    │ 91951 │\n",
       "│ Mozilla/5.0 (Linux; Android 10; motorola one vision plu…  │ Chrome Mobile         │ unknown        │ NULL    │ 91952 │\n",
       "│ Mozilla/5.0 (Linux; Android 8.1.0; H1T1000) AppleWebKit…  │ Chrome Mobile         │ unknown        │ NULL    │ 91953 │\n",
       "├───────────────────────────────────────────────────────────┴───────────────────────┴────────────────┴─────────┴───────┤\n",
       "│ 119 rows (20 shown)                                                                                        5 columns │\n",
       "└──────────────────────────────────────────────────────────────────────────────────────────────────────────────────────┘"
      ]
     },
     "execution_count": 145,
     "metadata": {},
     "output_type": "execute_result"
    }
   ],
   "source": [
    "dbc.sql(\"SELECT * FROM useragent WHERE major is NULL\")"
   ]
  },
  {
   "cell_type": "code",
   "execution_count": null,
   "id": "12c5603d",
   "metadata": {},
   "outputs": [],
   "source": []
  },
  {
   "cell_type": "code",
   "execution_count": 30,
   "id": "1b07ac0a",
   "metadata": {},
   "outputs": [
    {
     "data": {
      "text/html": [
       "<div>\n",
       "<style scoped>\n",
       "    .dataframe tbody tr th:only-of-type {\n",
       "        vertical-align: middle;\n",
       "    }\n",
       "\n",
       "    .dataframe tbody tr th {\n",
       "        vertical-align: top;\n",
       "    }\n",
       "\n",
       "    .dataframe thead th {\n",
       "        text-align: right;\n",
       "    }\n",
       "</style>\n",
       "<table border=\"1\" class=\"dataframe\">\n",
       "  <thead>\n",
       "    <tr style=\"text-align: right;\">\n",
       "      <th></th>\n",
       "    </tr>\n",
       "  </thead>\n",
       "  <tbody>\n",
       "  </tbody>\n",
       "</table>\n",
       "</div>"
      ],
      "text/plain": [
       "Empty DataFrame\n",
       "Columns: []\n",
       "Index: []"
      ]
     },
     "execution_count": 30,
     "metadata": {},
     "output_type": "execute_result"
    }
   ],
   "source": [
    "%%sql\n",
    "CREATE TYPE useragent_type AS ENUM ('browser', 'programmatic', 'bot', 'unknown');\n",
    "CREATE TABLE useragent\n",
    " (\n",
    "     string VARCHAR,\n",
    "     family VARCHAR,\n",
    "     type useragent_type,\n",
    "     major BOOLEAN,\n",
    "     PRIMARY KEY (string, family, type, major)\n",
    " )\n",
    "INSERT INTO useragent SELECT * FROM read_csv_auto('useragent.csv');"
   ]
  },
  {
   "cell_type": "code",
   "execution_count": 4,
   "id": "06cd81db",
   "metadata": {},
   "outputs": [
    {
     "name": "stdout",
     "output_type": "stream",
     "text": [
      "CPU times: user 1min 6s, sys: 4.02 s, total: 1min 10s\n",
      "Wall time: 20.2 s\n"
     ]
    },
    {
     "data": {
      "text/html": [
       "<div>\n",
       "<style scoped>\n",
       "    .dataframe tbody tr th:only-of-type {\n",
       "        vertical-align: middle;\n",
       "    }\n",
       "\n",
       "    .dataframe tbody tr th {\n",
       "        vertical-align: top;\n",
       "    }\n",
       "\n",
       "    .dataframe thead th {\n",
       "        text-align: right;\n",
       "    }\n",
       "</style>\n",
       "<table border=\"1\" class=\"dataframe\">\n",
       "  <thead>\n",
       "    <tr style=\"text-align: right;\">\n",
       "      <th></th>\n",
       "      <th>count_star()</th>\n",
       "    </tr>\n",
       "  </thead>\n",
       "  <tbody>\n",
       "    <tr>\n",
       "      <th>0</th>\n",
       "      <td>86373098</td>\n",
       "    </tr>\n",
       "  </tbody>\n",
       "</table>\n",
       "</div>"
      ],
      "text/plain": [
       "   count_star()\n",
       "0      86373098"
      ]
     },
     "execution_count": 4,
     "metadata": {},
     "output_type": "execute_result"
    }
   ],
   "source": [
    "%%time\n",
    "%%sql\n",
    "SELECT\n",
    "  COUNT(*)\n",
    "FROM\n",
    "  uniprotkb,\n",
    "  useragent\n",
    "WHERE\n",
    "  method = 'GET' AND\n",
    "  status = 200 AND\n",
    "  useragent.string = uniprotkb.useragent AND\n",
    "  useragent.major = true AND\n",
    "  useragent.type = 'browser'"
   ]
  },
  {
   "cell_type": "code",
   "execution_count": 15,
   "id": "3730f75e",
   "metadata": {},
   "outputs": [
    {
     "data": {
      "text/html": [
       "<div>\n",
       "<style scoped>\n",
       "    .dataframe tbody tr th:only-of-type {\n",
       "        vertical-align: middle;\n",
       "    }\n",
       "\n",
       "    .dataframe tbody tr th {\n",
       "        vertical-align: top;\n",
       "    }\n",
       "\n",
       "    .dataframe thead th {\n",
       "        text-align: right;\n",
       "    }\n",
       "</style>\n",
       "<table border=\"1\" class=\"dataframe\">\n",
       "  <thead>\n",
       "    <tr style=\"text-align: right;\">\n",
       "      <th></th>\n",
       "    </tr>\n",
       "  </thead>\n",
       "  <tbody>\n",
       "  </tbody>\n",
       "</table>\n",
       "</div>"
      ],
      "text/plain": [
       "Empty DataFrame\n",
       "Columns: []\n",
       "Index: []"
      ]
     },
     "execution_count": 15,
     "metadata": {},
     "output_type": "execute_result"
    }
   ],
   "source": [
    "%%sql\n",
    "SELECT\n",
    "  COUNT(*)\n",
    "FROM\n",
    "  uniprotkb,\n",
    "  useragent\n"
   ]
  },
  {
   "cell_type": "code",
   "execution_count": 6,
   "id": "246e15fe",
   "metadata": {},
   "outputs": [
    {
     "name": "stdout",
     "output_type": "stream",
     "text": [
      "Returning data to local variable df\n",
      "CPU times: user 5min, sys: 1min 22s, total: 6min 23s\n",
      "Wall time: 8min 38s\n"
     ]
    }
   ],
   "source": [
    "%%time\n",
    "%%sql\n",
    "df << SELECT\n",
    "  uniprotkb.datetime,\n",
    "  uniprotkb.method,\n",
    "  uniprotkb.request,\n",
    "  uniprotkb.status,\n",
    "  uniprotkb.bytes,\n",
    "  uniprotkb.referrer,\n",
    "  uniprotkb.useragent,\n",
    "  useragent.family,\n",
    "  useragent.type\n",
    "FROM\n",
    "  uniprotkb,\n",
    "  useragent\n",
    "WHERE\n",
    "  method = 'GET' AND\n",
    "  status = 200 AND\n",
    "  request ILIKE '%ftev\\_%' AND\n",
    "  useragent.string = uniprotkb.useragent AND\n",
    "  useragent.major = true"
   ]
  },
  {
   "cell_type": "code",
   "execution_count": 8,
   "id": "b9426e3d",
   "metadata": {},
   "outputs": [
    {
     "data": {
      "text/html": [
       "<div>\n",
       "<style scoped>\n",
       "    .dataframe tbody tr th:only-of-type {\n",
       "        vertical-align: middle;\n",
       "    }\n",
       "\n",
       "    .dataframe tbody tr th {\n",
       "        vertical-align: top;\n",
       "    }\n",
       "\n",
       "    .dataframe thead th {\n",
       "        text-align: right;\n",
       "    }\n",
       "</style>\n",
       "<table border=\"1\" class=\"dataframe\">\n",
       "  <thead>\n",
       "    <tr style=\"text-align: right;\">\n",
       "      <th></th>\n",
       "    </tr>\n",
       "  </thead>\n",
       "  <tbody>\n",
       "  </tbody>\n",
       "</table>\n",
       "</div>"
      ],
      "text/plain": [
       "Empty DataFrame\n",
       "Columns: []\n",
       "Index: []"
      ]
     },
     "execution_count": 8,
     "metadata": {},
     "output_type": "execute_result"
    }
   ],
   "source": [
    "df"
   ]
  },
  {
   "cell_type": "code",
   "execution_count": 7,
   "id": "fe9c668c",
   "metadata": {},
   "outputs": [
    {
     "ename": "KeyError",
     "evalue": "'request'",
     "output_type": "error",
     "traceback": [
      "\u001b[0;31m---------------------------------------------------------------------------\u001b[0m",
      "\u001b[0;31mKeyError\u001b[0m                                  Traceback (most recent call last)",
      "File \u001b[0;32m~/mambaforge/lib/python3.9/site-packages/pandas/core/indexes/base.py:3621\u001b[0m, in \u001b[0;36mIndex.get_loc\u001b[0;34m(self, key, method, tolerance)\u001b[0m\n\u001b[1;32m   3620\u001b[0m \u001b[38;5;28;01mtry\u001b[39;00m:\n\u001b[0;32m-> 3621\u001b[0m     \u001b[38;5;28;01mreturn\u001b[39;00m \u001b[38;5;28;43mself\u001b[39;49m\u001b[38;5;241;43m.\u001b[39;49m\u001b[43m_engine\u001b[49m\u001b[38;5;241;43m.\u001b[39;49m\u001b[43mget_loc\u001b[49m\u001b[43m(\u001b[49m\u001b[43mcasted_key\u001b[49m\u001b[43m)\u001b[49m\n\u001b[1;32m   3622\u001b[0m \u001b[38;5;28;01mexcept\u001b[39;00m \u001b[38;5;167;01mKeyError\u001b[39;00m \u001b[38;5;28;01mas\u001b[39;00m err:\n",
      "File \u001b[0;32m~/mambaforge/lib/python3.9/site-packages/pandas/_libs/index.pyx:136\u001b[0m, in \u001b[0;36mpandas._libs.index.IndexEngine.get_loc\u001b[0;34m()\u001b[0m\n",
      "File \u001b[0;32m~/mambaforge/lib/python3.9/site-packages/pandas/_libs/index.pyx:163\u001b[0m, in \u001b[0;36mpandas._libs.index.IndexEngine.get_loc\u001b[0;34m()\u001b[0m\n",
      "File \u001b[0;32mpandas/_libs/hashtable_class_helper.pxi:5198\u001b[0m, in \u001b[0;36mpandas._libs.hashtable.PyObjectHashTable.get_item\u001b[0;34m()\u001b[0m\n",
      "File \u001b[0;32mpandas/_libs/hashtable_class_helper.pxi:5206\u001b[0m, in \u001b[0;36mpandas._libs.hashtable.PyObjectHashTable.get_item\u001b[0;34m()\u001b[0m\n",
      "\u001b[0;31mKeyError\u001b[0m: 'request'",
      "\nThe above exception was the direct cause of the following exception:\n",
      "\u001b[0;31mKeyError\u001b[0m                                  Traceback (most recent call last)",
      "Input \u001b[0;32mIn [7]\u001b[0m, in \u001b[0;36m<cell line: 1>\u001b[0;34m()\u001b[0m\n\u001b[0;32m----> 1\u001b[0m \u001b[43mdf\u001b[49m\u001b[38;5;241;43m.\u001b[39;49m\u001b[43mloc\u001b[49m\u001b[43m[\u001b[49m\u001b[38;5;241;43m0\u001b[39;49m\u001b[43m,\u001b[49m\u001b[38;5;124;43m'\u001b[39;49m\u001b[38;5;124;43mrequest\u001b[39;49m\u001b[38;5;124;43m'\u001b[39;49m\u001b[43m]\u001b[49m\n",
      "File \u001b[0;32m~/mambaforge/lib/python3.9/site-packages/pandas/core/indexing.py:960\u001b[0m, in \u001b[0;36m_LocationIndexer.__getitem__\u001b[0;34m(self, key)\u001b[0m\n\u001b[1;32m    958\u001b[0m     key \u001b[38;5;241m=\u001b[39m \u001b[38;5;28mtuple\u001b[39m(com\u001b[38;5;241m.\u001b[39mapply_if_callable(x, \u001b[38;5;28mself\u001b[39m\u001b[38;5;241m.\u001b[39mobj) \u001b[38;5;28;01mfor\u001b[39;00m x \u001b[38;5;129;01min\u001b[39;00m key)\n\u001b[1;32m    959\u001b[0m     \u001b[38;5;28;01mif\u001b[39;00m \u001b[38;5;28mself\u001b[39m\u001b[38;5;241m.\u001b[39m_is_scalar_access(key):\n\u001b[0;32m--> 960\u001b[0m         \u001b[38;5;28;01mreturn\u001b[39;00m \u001b[38;5;28;43mself\u001b[39;49m\u001b[38;5;241;43m.\u001b[39;49m\u001b[43mobj\u001b[49m\u001b[38;5;241;43m.\u001b[39;49m\u001b[43m_get_value\u001b[49m\u001b[43m(\u001b[49m\u001b[38;5;241;43m*\u001b[39;49m\u001b[43mkey\u001b[49m\u001b[43m,\u001b[49m\u001b[43m \u001b[49m\u001b[43mtakeable\u001b[49m\u001b[38;5;241;43m=\u001b[39;49m\u001b[38;5;28;43mself\u001b[39;49m\u001b[38;5;241;43m.\u001b[39;49m\u001b[43m_takeable\u001b[49m\u001b[43m)\u001b[49m\n\u001b[1;32m    961\u001b[0m     \u001b[38;5;28;01mreturn\u001b[39;00m \u001b[38;5;28mself\u001b[39m\u001b[38;5;241m.\u001b[39m_getitem_tuple(key)\n\u001b[1;32m    962\u001b[0m \u001b[38;5;28;01melse\u001b[39;00m:\n\u001b[1;32m    963\u001b[0m     \u001b[38;5;66;03m# we by definition only have the 0th axis\u001b[39;00m\n",
      "File \u001b[0;32m~/mambaforge/lib/python3.9/site-packages/pandas/core/frame.py:3615\u001b[0m, in \u001b[0;36mDataFrame._get_value\u001b[0;34m(self, index, col, takeable)\u001b[0m\n\u001b[1;32m   3612\u001b[0m     series \u001b[38;5;241m=\u001b[39m \u001b[38;5;28mself\u001b[39m\u001b[38;5;241m.\u001b[39m_ixs(col, axis\u001b[38;5;241m=\u001b[39m\u001b[38;5;241m1\u001b[39m)\n\u001b[1;32m   3613\u001b[0m     \u001b[38;5;28;01mreturn\u001b[39;00m series\u001b[38;5;241m.\u001b[39m_values[index]\n\u001b[0;32m-> 3615\u001b[0m series \u001b[38;5;241m=\u001b[39m \u001b[38;5;28;43mself\u001b[39;49m\u001b[38;5;241;43m.\u001b[39;49m\u001b[43m_get_item_cache\u001b[49m\u001b[43m(\u001b[49m\u001b[43mcol\u001b[49m\u001b[43m)\u001b[49m\n\u001b[1;32m   3616\u001b[0m engine \u001b[38;5;241m=\u001b[39m \u001b[38;5;28mself\u001b[39m\u001b[38;5;241m.\u001b[39mindex\u001b[38;5;241m.\u001b[39m_engine\n\u001b[1;32m   3618\u001b[0m \u001b[38;5;28;01mif\u001b[39;00m \u001b[38;5;129;01mnot\u001b[39;00m \u001b[38;5;28misinstance\u001b[39m(\u001b[38;5;28mself\u001b[39m\u001b[38;5;241m.\u001b[39mindex, MultiIndex):\n\u001b[1;32m   3619\u001b[0m     \u001b[38;5;66;03m# CategoricalIndex: Trying to use the engine fastpath may give incorrect\u001b[39;00m\n\u001b[1;32m   3620\u001b[0m     \u001b[38;5;66;03m#  results if our categories are integers that dont match our codes\u001b[39;00m\n\u001b[1;32m   3621\u001b[0m     \u001b[38;5;66;03m# IntervalIndex: IntervalTree has no get_loc\u001b[39;00m\n",
      "File \u001b[0;32m~/mambaforge/lib/python3.9/site-packages/pandas/core/frame.py:3931\u001b[0m, in \u001b[0;36mDataFrame._get_item_cache\u001b[0;34m(self, item)\u001b[0m\n\u001b[1;32m   3926\u001b[0m res \u001b[38;5;241m=\u001b[39m cache\u001b[38;5;241m.\u001b[39mget(item)\n\u001b[1;32m   3927\u001b[0m \u001b[38;5;28;01mif\u001b[39;00m res \u001b[38;5;129;01mis\u001b[39;00m \u001b[38;5;28;01mNone\u001b[39;00m:\n\u001b[1;32m   3928\u001b[0m     \u001b[38;5;66;03m# All places that call _get_item_cache have unique columns,\u001b[39;00m\n\u001b[1;32m   3929\u001b[0m     \u001b[38;5;66;03m#  pending resolution of GH#33047\u001b[39;00m\n\u001b[0;32m-> 3931\u001b[0m     loc \u001b[38;5;241m=\u001b[39m \u001b[38;5;28;43mself\u001b[39;49m\u001b[38;5;241;43m.\u001b[39;49m\u001b[43mcolumns\u001b[49m\u001b[38;5;241;43m.\u001b[39;49m\u001b[43mget_loc\u001b[49m\u001b[43m(\u001b[49m\u001b[43mitem\u001b[49m\u001b[43m)\u001b[49m\n\u001b[1;32m   3932\u001b[0m     res \u001b[38;5;241m=\u001b[39m \u001b[38;5;28mself\u001b[39m\u001b[38;5;241m.\u001b[39m_ixs(loc, axis\u001b[38;5;241m=\u001b[39m\u001b[38;5;241m1\u001b[39m)\n\u001b[1;32m   3934\u001b[0m     cache[item] \u001b[38;5;241m=\u001b[39m res\n",
      "File \u001b[0;32m~/mambaforge/lib/python3.9/site-packages/pandas/core/indexes/base.py:3623\u001b[0m, in \u001b[0;36mIndex.get_loc\u001b[0;34m(self, key, method, tolerance)\u001b[0m\n\u001b[1;32m   3621\u001b[0m     \u001b[38;5;28;01mreturn\u001b[39;00m \u001b[38;5;28mself\u001b[39m\u001b[38;5;241m.\u001b[39m_engine\u001b[38;5;241m.\u001b[39mget_loc(casted_key)\n\u001b[1;32m   3622\u001b[0m \u001b[38;5;28;01mexcept\u001b[39;00m \u001b[38;5;167;01mKeyError\u001b[39;00m \u001b[38;5;28;01mas\u001b[39;00m err:\n\u001b[0;32m-> 3623\u001b[0m     \u001b[38;5;28;01mraise\u001b[39;00m \u001b[38;5;167;01mKeyError\u001b[39;00m(key) \u001b[38;5;28;01mfrom\u001b[39;00m \u001b[38;5;21;01merr\u001b[39;00m\n\u001b[1;32m   3624\u001b[0m \u001b[38;5;28;01mexcept\u001b[39;00m \u001b[38;5;167;01mTypeError\u001b[39;00m:\n\u001b[1;32m   3625\u001b[0m     \u001b[38;5;66;03m# If we have a listlike key, _check_indexing_error will raise\u001b[39;00m\n\u001b[1;32m   3626\u001b[0m     \u001b[38;5;66;03m#  InvalidIndexError. Otherwise we fall through and re-raise\u001b[39;00m\n\u001b[1;32m   3627\u001b[0m     \u001b[38;5;66;03m#  the TypeError.\u001b[39;00m\n\u001b[1;32m   3628\u001b[0m     \u001b[38;5;28mself\u001b[39m\u001b[38;5;241m.\u001b[39m_check_indexing_error(key)\n",
      "\u001b[0;31mKeyError\u001b[0m: 'request'"
     ]
    }
   ],
   "source": [
    "df.loc[0,'request']"
   ]
  },
  {
   "cell_type": "code",
   "execution_count": 127,
   "id": "1732633d",
   "metadata": {},
   "outputs": [
    {
     "data": {
      "text/html": [
       "<div>\n",
       "<style scoped>\n",
       "    .dataframe tbody tr th:only-of-type {\n",
       "        vertical-align: middle;\n",
       "    }\n",
       "\n",
       "    .dataframe tbody tr th {\n",
       "        vertical-align: top;\n",
       "    }\n",
       "\n",
       "    .dataframe thead th {\n",
       "        text-align: right;\n",
       "    }\n",
       "</style>\n",
       "<table border=\"1\" class=\"dataframe\">\n",
       "  <thead>\n",
       "    <tr style=\"text-align: right;\">\n",
       "      <th></th>\n",
       "      <th>datetime</th>\n",
       "      <th>method</th>\n",
       "      <th>request</th>\n",
       "      <th>status</th>\n",
       "      <th>bytes</th>\n",
       "      <th>referrer</th>\n",
       "      <th>useragent_id</th>\n",
       "    </tr>\n",
       "  </thead>\n",
       "  <tbody>\n",
       "    <tr>\n",
       "      <th>0</th>\n",
       "      <td>2023-01-08 00:00:01+00:00</td>\n",
       "      <td>GET</td>\n",
       "      <td>/uniprotkb/Q12346</td>\n",
       "      <td>200</td>\n",
       "      <td>11428</td>\n",
       "      <td>-</td>\n",
       "      <td>78921.0</td>\n",
       "    </tr>\n",
       "    <tr>\n",
       "      <th>1</th>\n",
       "      <td>2023-01-08 00:00:01+00:00</td>\n",
       "      <td>GET</td>\n",
       "      <td>/uniprotkb/W4EE35.fasta</td>\n",
       "      <td>200</td>\n",
       "      <td>254</td>\n",
       "      <td>-</td>\n",
       "      <td>84972.0</td>\n",
       "    </tr>\n",
       "    <tr>\n",
       "      <th>2</th>\n",
       "      <td>2023-01-08 00:00:01+00:00</td>\n",
       "      <td>GET</td>\n",
       "      <td>/uniprotkb/Q5XF89</td>\n",
       "      <td>200</td>\n",
       "      <td>28587</td>\n",
       "      <td>-</td>\n",
       "      <td>78921.0</td>\n",
       "    </tr>\n",
       "    <tr>\n",
       "      <th>3</th>\n",
       "      <td>2023-01-08 00:00:01+00:00</td>\n",
       "      <td>GET</td>\n",
       "      <td>/uniprotkb/C7J5M3</td>\n",
       "      <td>200</td>\n",
       "      <td>6923</td>\n",
       "      <td>-</td>\n",
       "      <td>78921.0</td>\n",
       "    </tr>\n",
       "    <tr>\n",
       "      <th>4</th>\n",
       "      <td>2023-01-08 00:00:01+00:00</td>\n",
       "      <td>GET</td>\n",
       "      <td>/uniprotkb/P0AEF7</td>\n",
       "      <td>200</td>\n",
       "      <td>6098</td>\n",
       "      <td>https://www.uniprot.org/</td>\n",
       "      <td>84126.0</td>\n",
       "    </tr>\n",
       "    <tr>\n",
       "      <th>...</th>\n",
       "      <td>...</td>\n",
       "      <td>...</td>\n",
       "      <td>...</td>\n",
       "      <td>...</td>\n",
       "      <td>...</td>\n",
       "      <td>...</td>\n",
       "      <td>...</td>\n",
       "    </tr>\n",
       "    <tr>\n",
       "      <th>168208</th>\n",
       "      <td>2023-01-09 00:00:00+00:00</td>\n",
       "      <td>GET</td>\n",
       "      <td>/uniprotkb/search?fields=accession%2Creviewed%...</td>\n",
       "      <td>200</td>\n",
       "      <td>7052</td>\n",
       "      <td>https://www.uniprot.org/</td>\n",
       "      <td>67971.0</td>\n",
       "    </tr>\n",
       "    <tr>\n",
       "      <th>168209</th>\n",
       "      <td>2023-01-09 00:00:00+00:00</td>\n",
       "      <td>GET</td>\n",
       "      <td>/uniprotkb/search?query=BBOX1&amp;showSingleTermMa...</td>\n",
       "      <td>200</td>\n",
       "      <td>115</td>\n",
       "      <td>https://www.uniprot.org/</td>\n",
       "      <td>72983.0</td>\n",
       "    </tr>\n",
       "    <tr>\n",
       "      <th>168210</th>\n",
       "      <td>2023-01-09 00:00:00+00:00</td>\n",
       "      <td>GET</td>\n",
       "      <td>/uniprotkb/search?facets=reviewed%2Cmodel_orga...</td>\n",
       "      <td>200</td>\n",
       "      <td>10105</td>\n",
       "      <td>https://www.uniprot.org/</td>\n",
       "      <td>84126.0</td>\n",
       "    </tr>\n",
       "    <tr>\n",
       "      <th>168211</th>\n",
       "      <td>2023-01-09 00:00:00+00:00</td>\n",
       "      <td>GET</td>\n",
       "      <td>/uniprotkb/search?format=fasta&amp;query=DHH%20AND...</td>\n",
       "      <td>200</td>\n",
       "      <td>11360</td>\n",
       "      <td>-</td>\n",
       "      <td>91791.0</td>\n",
       "    </tr>\n",
       "    <tr>\n",
       "      <th>168212</th>\n",
       "      <td>2023-01-09 00:00:00+00:00</td>\n",
       "      <td>GET</td>\n",
       "      <td>/uniprotkb/search?facets=reviewed%2Cmodel_orga...</td>\n",
       "      <td>200</td>\n",
       "      <td>5349</td>\n",
       "      <td>https://www.uniprot.org/</td>\n",
       "      <td>84126.0</td>\n",
       "    </tr>\n",
       "  </tbody>\n",
       "</table>\n",
       "<p>168213 rows × 7 columns</p>\n",
       "</div>"
      ],
      "text/plain": [
       "                        datetime method  \\\n",
       "0      2023-01-08 00:00:01+00:00    GET   \n",
       "1      2023-01-08 00:00:01+00:00    GET   \n",
       "2      2023-01-08 00:00:01+00:00    GET   \n",
       "3      2023-01-08 00:00:01+00:00    GET   \n",
       "4      2023-01-08 00:00:01+00:00    GET   \n",
       "...                          ...    ...   \n",
       "168208 2023-01-09 00:00:00+00:00    GET   \n",
       "168209 2023-01-09 00:00:00+00:00    GET   \n",
       "168210 2023-01-09 00:00:00+00:00    GET   \n",
       "168211 2023-01-09 00:00:00+00:00    GET   \n",
       "168212 2023-01-09 00:00:00+00:00    GET   \n",
       "\n",
       "                                                  request  status  bytes  \\\n",
       "0                                       /uniprotkb/Q12346     200  11428   \n",
       "1                                 /uniprotkb/W4EE35.fasta     200    254   \n",
       "2                                       /uniprotkb/Q5XF89     200  28587   \n",
       "3                                       /uniprotkb/C7J5M3     200   6923   \n",
       "4                                       /uniprotkb/P0AEF7     200   6098   \n",
       "...                                                   ...     ...    ...   \n",
       "168208  /uniprotkb/search?fields=accession%2Creviewed%...     200   7052   \n",
       "168209  /uniprotkb/search?query=BBOX1&showSingleTermMa...     200    115   \n",
       "168210  /uniprotkb/search?facets=reviewed%2Cmodel_orga...     200  10105   \n",
       "168211  /uniprotkb/search?format=fasta&query=DHH%20AND...     200  11360   \n",
       "168212  /uniprotkb/search?facets=reviewed%2Cmodel_orga...     200   5349   \n",
       "\n",
       "                        referrer  useragent_id  \n",
       "0                              -       78921.0  \n",
       "1                              -       84972.0  \n",
       "2                              -       78921.0  \n",
       "3                              -       78921.0  \n",
       "4       https://www.uniprot.org/       84126.0  \n",
       "...                          ...           ...  \n",
       "168208  https://www.uniprot.org/       67971.0  \n",
       "168209  https://www.uniprot.org/       72983.0  \n",
       "168210  https://www.uniprot.org/       84126.0  \n",
       "168211                         -       91791.0  \n",
       "168212  https://www.uniprot.org/       84126.0  \n",
       "\n",
       "[168213 rows x 7 columns]"
      ]
     },
     "execution_count": 127,
     "metadata": {},
     "output_type": "execute_result"
    }
   ],
   "source": [
    "log_df_merged"
   ]
  },
  {
   "cell_type": "code",
   "execution_count": null,
   "id": "5ff35899",
   "metadata": {},
   "outputs": [],
   "source": []
  }
 ],
 "metadata": {
  "kernelspec": {
   "display_name": "Python 3 (ipykernel)",
   "language": "python",
   "name": "python3"
  },
  "language_info": {
   "codemirror_mode": {
    "name": "ipython",
    "version": 3
   },
   "file_extension": ".py",
   "mimetype": "text/x-python",
   "name": "python",
   "nbconvert_exporter": "python",
   "pygments_lexer": "ipython3",
   "version": "3.9.13"
  }
 },
 "nbformat": 4,
 "nbformat_minor": 5
}
